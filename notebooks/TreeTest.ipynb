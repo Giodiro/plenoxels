{
 "cells": [
  {
   "cell_type": "code",
   "execution_count": 1,
   "id": "classified-recorder",
   "metadata": {},
   "outputs": [],
   "source": [
    "%load_ext autoreload\n",
    "%autoreload 2"
   ]
  },
  {
   "cell_type": "code",
   "execution_count": 2,
   "id": "ambient-prerequisite",
   "metadata": {},
   "outputs": [],
   "source": [
    "import torch\n",
    "import torch.nn.functional as F\n",
    "import numpy as np\n",
    "import sys\n",
    "sys.path.append(\"../plenoxels\")\n",
    "# from plenoxels.simple_tree import init_render_opt, VolumeRenderFunction, Octree\n",
    "from tc_plenoptimize import init_datasets, init_profiler, parse_config\n",
    "import config\n",
    "import matplotlib.pyplot as plt\n",
    "import math"
   ]
  },
  {
   "cell_type": "code",
   "execution_count": 3,
   "id": "african-payday",
   "metadata": {},
   "outputs": [],
   "source": [
    "import os\n",
    "os.environ['CUDA_LAUNCH_BLOCKING'] = '1'"
   ]
  },
  {
   "cell_type": "code",
   "execution_count": 4,
   "id": "expanded-steam",
   "metadata": {},
   "outputs": [],
   "source": [
    "cfg = config.get_cfg_defaults()\n",
    "dev = \"cuda\""
   ]
  },
  {
   "cell_type": "code",
   "execution_count": 5,
   "id": "civilian-cable",
   "metadata": {
    "code_folding": []
   },
   "outputs": [],
   "source": [
    "def plot_ts(ts_dset, tree, use_ext, batch_size=10_000):\n",
    "    with torch.autograd.no_grad():\n",
    "        for ts_el in ts_dset:\n",
    "            rays, rgb = ts_el\n",
    "            rgb = rgb.view(ts_dset.img_h, ts_dset.img_w, 3)\n",
    "            preds = []\n",
    "            for b in range(math.ceil(rays.shape[0] / batch_size)):\n",
    "                rays_o = rays[b * batch_size: (b + 1) * batch_size, 0].to(\"cuda\")\n",
    "                rays_d = rays[b * batch_size: (b + 1) * batch_size, 1].to(\"cuda\")\n",
    "                preds.append(tree(rays_o, rays_d, use_ext).cpu())\n",
    "            pred = torch.cat(preds, 0).view(ts_dset.img_h, ts_dset.img_w, 3)\n",
    "            break\n",
    "    fig, ax = plt.subplots()\n",
    "    ax.imshow(pred)"
   ]
  },
  {
   "cell_type": "markdown",
   "id": "killing-starter",
   "metadata": {
    "heading_collapsed": true
   },
   "source": [
    "### Invocation sample for old octree"
   ]
  },
  {
   "cell_type": "code",
   "execution_count": null,
   "id": "enormous-maryland",
   "metadata": {
    "hidden": true
   },
   "outputs": [],
   "source": [
    "tree = Octree(max_internal_nodes=1, initial_levels=1, \n",
    "              sh_degree=2, render_opt=init_render_opt(),\n",
    "              branching=2,\n",
    "              radius=(tr_dset.scene_bbox[1] - tr_dset.scene_bbox[0]) / 2,\n",
    "              center=(tr_dset.scene_bbox[1] + tr_dset.scene_bbox[0]) / 2,\n",
    "              parent_sum=True, dtype=torch.float32).cuda()\n",
    "with torch.autograd.no_grad():\n",
    "    tree.data[..., :-1].fill_(0.005)  # RGB\n",
    "    tree.data[..., -1].fill_(0.05)    # Density"
   ]
  },
  {
   "cell_type": "markdown",
   "id": "conservative-signal",
   "metadata": {
    "heading_collapsed": true
   },
   "source": [
    "## Corner Tree\n",
    "\n",
    "Initialize like:\n",
    "```\n",
    "t = CornerTree(sh_degree=1, init_internal=585, \n",
    "               aabb=torch.tensor([[-1.3, -1.3, -1.3], [1.3, 1.3, 1.3]]), near=2., far=6.,\n",
    "               init_rgb=0.01, init_sigma=0.1)\n",
    "t.refine()\n",
    "t.refine()\n",
    "t.refine()\n",
    "t.refine()\n",
    "```"
   ]
  },
  {
   "cell_type": "code",
   "execution_count": 6,
   "id": "opposite-diversity",
   "metadata": {
    "hidden": true
   },
   "outputs": [],
   "source": [
    "_corner_tree_max_side = 256\n",
    "def enc_pos(coo):\n",
    "    return (coo[:, 0] * (_corner_tree_max_side ** 3) + \n",
    "            coo[:, 1] * (_corner_tree_max_side ** 2) + \n",
    "            coo[:, 2] * _corner_tree_max_side).long()"
   ]
  },
  {
   "cell_type": "code",
   "execution_count": 126,
   "id": "great-dodge",
   "metadata": {
    "code_folding": [
     48,
     53
    ],
    "hidden": true
   },
   "outputs": [],
   "source": [
    "from plenoxels.tc_plenoxel import plenoxel_sh_encoder\n",
    "\n",
    "\n",
    "class CornerTree(torch.nn.Module):\n",
    "    def __init__(self, \n",
    "                 sh_degree: int,\n",
    "                 init_internal: int, \n",
    "                 aabb: torch.Tensor, \n",
    "                 near: float, \n",
    "                 far: float,\n",
    "                 init_rgb: float,\n",
    "                 init_sigma: float):\n",
    "        super().__init__()\n",
    "        self.data_dim = 3 * (sh_degree + 1) ** 2 + 1\n",
    "        # TODO: near and far should be transformed\n",
    "        self.near = near\n",
    "        self.far = far\n",
    "        # 1 / diameter\n",
    "        scaling = 1 / (aabb[1] - aabb[0])\n",
    "        # 0.5 - center / diameter\n",
    "        offset = 0.5 - 0.5 * (aabb[0] + aabb[1]) * scaling\n",
    "        self.num_samples = 128\n",
    "        self.white_bkgd = True\n",
    "        self.init_rgb = init_rgb\n",
    "        self.init_sigma = init_sigma\n",
    "        self.sh_encoder = plenoxel_sh_encoder(sh_degree)\n",
    "        \n",
    "        child    = torch.empty(init_internal, 2, 2, 2, dtype=torch.long)\n",
    "        coords   = torch.empty(init_internal, 2, 2, 2, 3)\n",
    "        nids     = torch.empty(init_internal, 2, 2, 2, 8, dtype=torch.long)\n",
    "        depths   = torch.empty(init_internal, dtype=torch.long)\n",
    "        is_child_leaf = torch.ones(init_internal, 2, 2, 2, dtype=torch.bool)\n",
    "        self.data = torch.nn.EmbeddingBag(1, self.data_dim, mode='sum')           # n_data, data_dim\n",
    "        \n",
    "        offsets_3d = torch.tensor([[-1, -1, -1], [-1, -1, 1], [-1, 1, -1], [-1, 1, 1],\n",
    "                                   [1, -1, -1], [1, -1, 1], [1, 1, -1], [1, 1, 1]])\n",
    "        self.register_buffer(\"offset\", offset)\n",
    "        self.register_buffer(\"scaling\", scaling)\n",
    "        self.register_buffer(\"aabb\", aabb)\n",
    "        self.register_buffer(\"offsets_3d\", offsets_3d)\n",
    "        self.register_buffer(\"child\", child)\n",
    "        self.register_buffer(\"coords\", coords)\n",
    "        self.register_buffer(\"nids\", nids)\n",
    "        self.register_buffer(\"depths\", depths)\n",
    "        self.register_buffer(\"is_child_leaf\", is_child_leaf)\n",
    "        self.register_buffer(\"ucoo\", torch.tensor([]))\n",
    "        self.n_internal = 0\n",
    "        \n",
    "    def trasform_coords(self, coords):\n",
    "        \"\"\"From world-coordinates to tree-coordinates (a cube between 0 and 1)\"\"\"\n",
    "        return self.offset + coords * self.scaling\n",
    "\n",
    "    @torch.no_grad()\n",
    "    def refine(self, leaves=None):\n",
    "        # 1. figure out the coordinates of the leaves. This is non-trivial, likely requires traeversing the tree.\n",
    "        # 2. split the leaves. Add child, is_child_leaf, parent, depth.\n",
    "\n",
    "        # 3. For each new leaf calculate coordinates of its neighbors.\n",
    "        # 4. encode neighbor coordinates, and append to existing coordinates\n",
    "        # 5. Unique with inverse.\n",
    "        # 6. Run whatever is below\n",
    "        if leaves is None:\n",
    "            leaves = self.is_child_leaf[:self.n_internal].nonzero(as_tuple=False)  # n_leaves, 4\n",
    "        sel = (leaves[:, 0], leaves[:, 1], leaves[:, 2], leaves[:, 3])\n",
    "        \n",
    "        n_int = self.n_internal\n",
    "        n_nodes = self.n_internal * 8 + 1\n",
    "        n_int_new = leaves.shape[0] if n_int > 0 else 1\n",
    "        n_nodes_fin = n_nodes + n_int_new * 8\n",
    "        print(f\"{n_int=}, {n_nodes=}, {n_int_new=}, {n_nodes_fin=}\")\n",
    "        if n_int_new + n_int > self.child.shape[0]:\n",
    "            raise RuntimeError(f\"Not enough data-space for refinement. \"\n",
    "                               f\"Need {n_int_new + n_int}, Have {self.child.shape[0]}\")\n",
    "\n",
    "        leaf_coo = self.coords[sel] if n_int > 0 else torch.tensor([[0.5, 0.5, 0.5]])\n",
    "        depths = self.depths[sel[0]] if n_int > 0 else torch.tensor([0])\n",
    "        # + 1 since it's the new leaf, and +1 to get half-voxel-size\n",
    "        new_leaf_sizes = (1 / (2 ** (depths + 2))).unsqueeze(-1).unsqueeze(-1)\n",
    "        \n",
    "        n_offsets = self.offsets_3d.unsqueeze(0).repeat(n_int_new, 1, 1) * new_leaf_sizes  # [nl, 8, 3]\n",
    "        new_child = (\n",
    "            torch.arange(n_nodes, n_nodes_fin, dtype=torch.int32).view(-1, 2, 2, 2)\n",
    "            - torch.arange(n_int, n_int + n_int_new).view(-1, 1, 1, 1)\n",
    "        )\n",
    "        self.child[n_int: n_int + n_int_new] = new_child\n",
    "        self.is_child_leaf[sel] = False\n",
    "        \n",
    "        new_leaf_coo = leaf_coo.unsqueeze(1) + n_offsets  # [nl, 8, 3]\n",
    "        self.coords[n_int: n_int + n_int_new] = new_leaf_coo.view(-1, 2, 2, 2, 3)\n",
    "        self.depths[n_int: n_int + n_int_new] = depths + 1\n",
    "        \n",
    "        self.n_internal = n_int + n_int_new\n",
    "        \n",
    "        # From leaf center to corners (nl -> 8*nl=nc)\n",
    "        new_corners = (new_leaf_coo.view(-1, 1, 3) + n_offsets.repeat_interleave(8, dim=0)).view(-1, 3)\n",
    "        new_corners_enc = enc_pos(new_corners)\n",
    "        # Need to get all the encoded corner positions of the whole tree.\n",
    "        if n_int > 0:\n",
    "            corners_enc = torch.cat((self.ucoo[self.nids[:n_int].view(-1)], new_corners_enc))\n",
    "        else:\n",
    "            corners_enc = new_corners_enc\n",
    "        \n",
    "        new_u_cor, new_cor_idx = torch.unique(corners_enc, return_inverse=True, sorted=True)\n",
    "        print(f\"Deduped corner coordinates from {corners_enc.shape[0]} to {new_u_cor.shape[0]}\")\n",
    "        \n",
    "        # Update the tree-data: create new tensor, copy the old data into it (with changed indices).\n",
    "        new_data = torch.zeros(new_u_cor.shape[0], self.data_dim)\n",
    "        new_data[:, :-1].fill_(self.init_rgb)\n",
    "        new_data[:, -1].fill_(self.init_sigma)\n",
    "        if n_int > 0:\n",
    "            new_data[torch.searchsorted(new_u_cor, self.ucoo), :] = self.data.weight\n",
    "        self.data = torch.nn.EmbeddingBag.from_pretrained(new_data, freeze=False, mode='sum', sparse=False)\n",
    "        self.ucoo = new_u_cor\n",
    "        # TODO: parent data should be copied into the corresponding children\n",
    "\n",
    "        # New neighbor indices\n",
    "        self.nids[:n_int + n_int_new] = new_cor_idx.view(-1, 2, 2, 2, 8)\n",
    "        \n",
    "    def query(self, indices):\n",
    "        n = indices.shape[0]\n",
    "\n",
    "        with torch.autograd.no_grad():\n",
    "            indices = self.trasform_coords(indices)\n",
    "            node_ids = torch.zeros(n, dtype=torch.long, device=indices.device)\n",
    "            remain_indices = torch.arange(n, dtype=torch.long, device=indices.device)\n",
    "            floor_indices = torch.zeros(n, 3, dtype=torch.float, device=indices.device)\n",
    "            xy = indices\n",
    "            while remain_indices.numel():\n",
    "                xy *= 2\n",
    "                floor = torch.floor(xy)\n",
    "                floor.clamp_max_(1)\n",
    "                xy -= floor\n",
    "                sel = (node_ids[remain_indices], *(floor.long().T),)\n",
    "                deltas = self.child[sel]\n",
    "\n",
    "                term_mask = self.is_child_leaf[sel]  # terminate when nodes with 0 children encountered (leaves).\n",
    "                term_indices = remain_indices[term_mask]\n",
    "\n",
    "                indices.scatter_(0, term_indices.unsqueeze(-1).repeat(1, 3), xy[term_mask])\n",
    "                floor_indices.scatter_(0, term_indices.unsqueeze(-1).repeat(1, 3), floor[term_mask])\n",
    "                \n",
    "                remain_indices = remain_indices[~term_mask]\n",
    "                if not remain_indices.numel():\n",
    "                    break\n",
    "                \n",
    "                node_ids[remain_indices] += deltas\n",
    "                xy = xy[~term_mask]\n",
    "                floor = floor[~term_mask]\n",
    "\n",
    "        xy = indices\n",
    "        sel = (node_ids, *(floor_indices.long().T),)\n",
    "        sel_nids = self.nids[sel]  # n, 8\n",
    "        weights = torch.stack((\n",
    "            (1 - xy[:, 0]) * (1 - xy[:, 1]) * (1 - xy[:, 2]),\n",
    "            (1 - xy[:, 0]) * (1 - xy[:, 1]) * (xy[:, 2]),\n",
    "            (1 - xy[:, 0]) * (xy[:, 1])     * (1 - xy[:, 2]),\n",
    "            (1 - xy[:, 0]) * (xy[:, 1])     * (xy[:, 2]),\n",
    "            (xy[:, 0])     * (1 - xy[:, 1]) * (1 - xy[:, 2]),\n",
    "            (xy[:, 0])     * (1 - xy[:, 1]) * (xy[:, 2]),\n",
    "            (xy[:, 0])     * (xy[:, 1])     * (1 - xy[:, 2]),\n",
    "            (xy[:, 0])     * (xy[:, 1])     * (xy[:, 2]),\n",
    "        ), dim=1)  # n, 8\n",
    "        return self.data(sel_nids, per_sample_weights=weights)\n",
    "    \n",
    "    @torch.no_grad()\n",
    "    def sample_proposal(self, rays_o, rays_d, max_samples):\n",
    "#         rays_o = self.trasform_coords(rays_o)\n",
    "        # scale direction\n",
    "        rays_d.mul_(self.scaling)\n",
    "        delta_scale = 1 / torch.linalg.norm(rays_d, dim=1, keepdim=True)\n",
    "        rays_d.mul_(delta_scale)\n",
    "        step_size = 1 / max_samples\n",
    "        \n",
    "        offsets_pos = (self.aabb[1] - rays_o) / rays_d  # [batch, 3]\n",
    "        offsets_neg = (self.aabb[0] - rays_o) / rays_d  # [batch, 3]\n",
    "        offsets_in = torch.minimum(offsets_pos, offsets_neg)  # [batch, 3]\n",
    "        start = torch.amax(offsets_in, dim=-1, keepdim=True)  # [batch, 1]\n",
    "#         start.clamp_(min=self.near, max=self.far)  # [batch, 1]\n",
    "        steps = torch.arange(max_samples, dtype=torch.float32, device=self.child.device).unsqueeze(0)  # [1, n_intrs]\n",
    "        steps = steps.repeat(rays_d.shape[0], 1)   # [batch, n_intrs]\n",
    "        intersections = start + steps * step_size  # [batch, n_intrs]\n",
    "        dts = torch.diff(intersections, n=1, dim=1).mul(delta_scale)\n",
    "        intersections = intersections[:, :-1]\n",
    "        points = rays_o.unsqueeze(1) + intersections.unsqueeze(2) * rays_d.unsqueeze(1)\n",
    "        points_valid = ((points > self.aabb[0]) & (points < self.aabb[1])).all(-1)\n",
    "        return points, dts, points_valid\n",
    "    \n",
    "    def forward(self, rays_o, rays_d):\n",
    "        # NOTE: sample_proposal modifies rays_d.\n",
    "        pts, dt, valid = self.sample_proposal(rays_o, rays_d, self.num_samples)\n",
    "        batch, nintrs = pts.shape[:2]\n",
    "        \n",
    "        interp_masked = self.query(pts[valid].view(-1, 3))\n",
    "        interp = torch.zeros(batch, nintrs, self.data_dim, \n",
    "                             dtype=torch.float32, device=interp_masked.device)\n",
    "        interp.masked_scatter_(valid.unsqueeze(-1), interp_masked)\n",
    "        \n",
    "        sh_mult = self.sh_encoder(rays_d)  # [batch, ch/3]\n",
    "        sh_mult = sh_mult.unsqueeze(1).expand(batch, nintrs, -1).unsqueeze(2)  # [batch, nintrs, 1, ch/3]\n",
    "        interp_rgb = interp[..., :-1].view(batch, nintrs, 3, sh_mult.shape[-1])  # [batch, nintrs, 3, ch/3]\n",
    "        rgb = torch.sum(sh_mult * interp_rgb, dim=-1)  # [batch, nintrs, 3]\n",
    "        \n",
    "        sigma = interp[..., -1]  # [batch, n_intrs-1, 1]\n",
    "        \n",
    "        # Volumetric rendering\n",
    "        alpha = 1 - torch.exp(-torch.relu(sigma) * dt)            # alpha: [batch, n_intrs-1]\n",
    "        cum_light = torch.cat((torch.ones(rgb.shape[0], 1, dtype=rgb.dtype, device=rgb.device),\n",
    "                               torch.cumprod(1 - alpha[:, :-1] + 1e-10, dim=-1)), dim=-1)  # [batch, n_intrs-1]\n",
    "        abs_light = alpha * cum_light  # [batch, n_intersections - 1]\n",
    "        acc_map = abs_light.sum(-1)    # [batch]\n",
    "\n",
    "        # Accumulated color over the samples, ignoring background\n",
    "        rgb = torch.sigmoid(rgb)  # [batch, n_intrs-1, 3]\n",
    "        rgb_map = (abs_light.unsqueeze(-1) * rgb).sum(dim=-2)  # [batch, 3]\n",
    "\n",
    "        if self.white_bkgd:\n",
    "            # Including the white background in the final color\n",
    "            rgb_map = rgb_map + (1. - acc_map.unsqueeze(1))\n",
    "\n",
    "        return rgb_map"
   ]
  },
  {
   "cell_type": "markdown",
   "id": "virtual-indonesia",
   "metadata": {},
   "source": [
    "## Test Learning"
   ]
  },
  {
   "cell_type": "code",
   "execution_count": 39,
   "id": "piano-jefferson",
   "metadata": {},
   "outputs": [],
   "source": [
    "cfg.optim.batch_size = 4000\n",
    "cfg.data.max_tr_frames = None"
   ]
  },
  {
   "cell_type": "code",
   "execution_count": 40,
   "id": "laden-display",
   "metadata": {},
   "outputs": [
    {
     "name": "stderr",
     "output_type": "stream",
     "text": [
      "Loading train data: 100%|██████████| 100/100 [00:04<00:00, 21.39it/s]\n",
      "Loading test data: 100%|██████████| 2/2 [00:00<00:00, 23.15it/s]\n"
     ]
    }
   ],
   "source": [
    "tr_dset, tr_loader, ts_dset = init_datasets(cfg, dev)"
   ]
  },
  {
   "cell_type": "code",
   "execution_count": 41,
   "id": "caring-disease",
   "metadata": {},
   "outputs": [],
   "source": [
    "data_iter = iter(tr_loader)"
   ]
  },
  {
   "cell_type": "code",
   "execution_count": 126,
   "id": "arbitrary-mustang",
   "metadata": {},
   "outputs": [],
   "source": [
    "from plenoxels.corner_tree import CornerTree"
   ]
  },
  {
   "cell_type": "code",
   "execution_count": 127,
   "id": "painted-division",
   "metadata": {},
   "outputs": [
    {
     "name": "stdout",
     "output_type": "stream",
     "text": [
      "n_int=0, n_nodes=1, n_int_new=1, n_nodes_fin=9\n",
      "Deduped corner coordinates from 64 to 27\n",
      "n_int=1, n_nodes=9, n_int_new=8, n_nodes_fin=73\n",
      "Deduped corner coordinates from 576 to 125\n",
      "n_int=9, n_nodes=73, n_int_new=64, n_nodes_fin=585\n",
      "Deduped corner coordinates from 4672 to 729\n",
      "n_int=73, n_nodes=585, n_int_new=512, n_nodes_fin=4681\n",
      "Deduped corner coordinates from 37440 to 4913\n",
      "n_int=585, n_nodes=4681, n_int_new=4096, n_nodes_fin=37449\n",
      "Deduped corner coordinates from 299584 to 35937\n",
      "n_int=4681, n_nodes=37449, n_int_new=32768, n_nodes_fin=299593\n",
      "Deduped corner coordinates from 2396736 to 274625\n"
     ]
    },
    {
     "data": {
      "text/plain": [
       "CornerTree(\n",
       "  (data): EmbeddingBag(274625, 28, mode=sum)\n",
       ")"
      ]
     },
     "execution_count": 127,
     "metadata": {},
     "output_type": "execute_result"
    }
   ],
   "source": [
    "tree = CornerTree(sh_degree=2, init_internal=37449, \n",
    "                  aabb=tr_dset.scene_bbox, near=2., far=6.,\n",
    "                  init_rgb=0.01, init_sigma=0.1)\n",
    "tree.refine()\n",
    "tree.refine()\n",
    "tree.refine()\n",
    "tree.refine()\n",
    "tree.refine()\n",
    "tree.refine()\n",
    "with torch.no_grad():\n",
    "    torch.nn.init.uniform_(tree.data.weight, 0.0, 0.1)\n",
    "tree.cuda()"
   ]
  },
  {
   "cell_type": "markdown",
   "id": "parliamentary-value",
   "metadata": {
    "heading_collapsed": true
   },
   "source": [
    "### Test components"
   ]
  },
  {
   "cell_type": "code",
   "execution_count": 82,
   "id": "innocent-extreme",
   "metadata": {
    "hidden": true
   },
   "outputs": [],
   "source": [
    "rays, imgs = next(data_iter)\n",
    "imgs = imgs.to(device=dev)\n",
    "rays_o = rays[:, 0].contiguous().to(device=dev)\n",
    "rays_d = rays[:, 1].contiguous().to(device=dev)\n",
    "rays_d /= torch.linalg.norm(rays_d, dim=1, keepdim=True)\n",
    "\n",
    "preds_p = tree(rays_o, rays_d, use_ext=False)\n",
    "preds_c = tree(rays_o, rays_d, use_ext=True)"
   ]
  },
  {
   "cell_type": "code",
   "execution_count": 83,
   "id": "fifty-replica",
   "metadata": {
    "hidden": true
   },
   "outputs": [],
   "source": [
    "t_o = tree.trasform_coords(rays_o)\n",
    "pts_p = preds_p[1]\n",
    "valid_p = preds_p[3]\n",
    "pts_c = t_o.unsqueeze(1) + preds_c.ray_offsets.unsqueeze(-1) * rays_d.unsqueeze(1)\n",
    "# print(\"ray_o\", t_o)\n",
    "# print(\"ray_d\", rays_d, torch.linalg.norm(rays_d[0]))"
   ]
  },
  {
   "cell_type": "code",
   "execution_count": 89,
   "id": "former-relations",
   "metadata": {
    "hidden": true
   },
   "outputs": [
    {
     "data": {
      "text/plain": [
       "tensor([], device='cuda:0', size=(0, 2), dtype=torch.int64)"
      ]
     },
     "execution_count": 89,
     "metadata": {},
     "output_type": "execute_result"
    }
   ],
   "source": [
    "# interpolation weights\n",
    "w_p_ = preds_p[4]\n",
    "w_c = preds_c.interpolation_weights\n",
    "w_p = torch.zeros_like(w_c)\n",
    "w_p.masked_scatter_(valid_p.unsqueeze(-1).repeat(1, 1, 8), w_p_);\n",
    "((w_p - w_c).abs().sum(-1) > 1e-4).nonzero()"
   ]
  },
  {
   "cell_type": "code",
   "execution_count": 90,
   "id": "sealed-melbourne",
   "metadata": {
    "hidden": true
   },
   "outputs": [
    {
     "data": {
      "text/plain": [
       "tensor([], device='cuda:0', size=(0, 1), dtype=torch.int64)"
      ]
     },
     "execution_count": 90,
     "metadata": {},
     "output_type": "execute_result"
    }
   ],
   "source": [
    "# interpolation outputs\n",
    "ival_c = preds_c.interpolated_vals\n",
    "ival_p = preds_p[5]\n",
    "((ival_p[0, 0] - ival_c[0, 0]).abs() > 1e-5).nonzero()"
   ]
  },
  {
   "cell_type": "code",
   "execution_count": 91,
   "id": "golden-killer",
   "metadata": {
    "hidden": true
   },
   "outputs": [
    {
     "data": {
      "text/plain": [
       "tensor([], device='cuda:0', size=(0, 2), dtype=torch.int64)"
      ]
     },
     "execution_count": 91,
     "metadata": {},
     "output_type": "execute_result"
    }
   ],
   "source": [
    "# Outputs\n",
    "out_c = preds_c.output_rgb\n",
    "out_p = preds_p[0]\n",
    "((out_c - out_p).abs() > 1e-5).nonzero()"
   ]
  },
  {
   "cell_type": "code",
   "execution_count": 96,
   "id": "smaller-allah",
   "metadata": {
    "code_folding": [
     1,
     21
    ],
    "hidden": true
   },
   "outputs": [],
   "source": [
    "cube_sz = 32\n",
    "def s_aabb(pos, invdir):\n",
    "    pos = pos.clone()\n",
    "    fs = []\n",
    "    for i in range(5):\n",
    "        pos *= 2\n",
    "        f = torch.floor(pos)\n",
    "        pos -= f\n",
    "        fs.append(f)\n",
    "    f = torch.cat(fs, 0).cpu()\n",
    "    f = (f * (2 ** torch.arange(f.shape[0]))).sum()\n",
    "#     t1 = (1 - pos) * invdir\n",
    "#     t2 = (- pos) * invdir\n",
    "    t1 = -pos * invdir\n",
    "    t2 = t1 + invdir\n",
    "    tmin = torch.max(torch.minimum(t1, t2))\n",
    "    tmax = torch.min(torch.maximum(t1, t2))\n",
    "#     print(\"Subcube tmin=%.3f - tmax=%.3f - f-pos %d\" % (\n",
    "#         tmin.item(), tmax.item(), int(f)))\n",
    "    return tmin, tmax\n",
    "    \n",
    "def sample_proposal(ray_o_norm, ray_d):\n",
    "    invdir = 1 / (ray_d + 1e-8)\n",
    "    \n",
    "    t1 = -ray_o_norm * invdir\n",
    "    t2 = t1 + invdir\n",
    "    tmin = torch.max(torch.minimum(t1, t2))\n",
    "    tmax = torch.min(torch.maximum(t1, t2))\n",
    "    \n",
    "    t = tmin\n",
    "    print(tmin)\n",
    "    dt = 0\n",
    "    n_samples_left = 0\n",
    "    \n",
    "    \n",
    "    while t < tmax:\n",
    "        \n",
    "        print(\"Point is at\", ray_o_norm + t * ray_d)\n",
    "#         s_tmin, s_tmax = s_aabb(ray_o_norm + t * ray_d, invdir)\n",
    "#         s_aabb(ray_o_norm + t * ray_d, invdir)\n",
    "#         print(f\"{n_samples_left=} {t.item()=:.4f} {dt=}\")\n",
    "        if n_samples_left == 0:\n",
    "#             print(\"---Recomputing---\")\n",
    "            t += dt / 2 + 1e-4\n",
    "    \n",
    "            relpos = ray_o_norm + t * ray_d\n",
    "            s_tmin, s_tmax = s_aabb(relpos, invdir)\n",
    "            s_size = (s_tmax - s_tmin) / cube_sz\n",
    "            print(s_size)\n",
    "            n_samples_left = math.ceil(1 * s_size * cube_sz / 1.732)\n",
    "            dt = s_size / n_samples_left\n",
    "            t += s_tmin / cube_sz + dt / 2\n",
    "#             print(f\"---Recompute finished: t={t.item():.3f} dt={dt.item():.4f} samples_left={n_samples_left}---\")\n",
    "            \n",
    "        else:\n",
    "            t += dt\n",
    "        n_samples_left -= 1\n",
    "    print(tmax)"
   ]
  },
  {
   "cell_type": "code",
   "execution_count": 52,
   "id": "metric-lunch",
   "metadata": {
    "hidden": true
   },
   "outputs": [
    {
     "data": {
      "text/plain": [
       "(tensor([-5.9605e-08,  2.4792e-01,  2.9169e-01], device='cuda:0'),\n",
       " tensor([-1.,  0.,  0.], device='cuda:0'))"
      ]
     },
     "execution_count": 52,
     "metadata": {},
     "output_type": "execute_result"
    }
   ],
   "source": [
    "pts_p[8, 0], torch.floor(pts_c[8, 0])"
   ]
  },
  {
   "cell_type": "code",
   "execution_count": 50,
   "id": "modular-treaty",
   "metadata": {
    "hidden": true
   },
   "outputs": [
    {
     "data": {
      "text/plain": [
       "(tensor([1.6802e-07, 3.3867e-07, 1.0969e-06, 2.2111e-06, 4.4044e-02, 8.8781e-02,\n",
       "         2.8755e-01, 5.7962e-01], device='cuda:0'),\n",
       " tensor([0.0440, 0.0888, 0.2876, 0.5796, 0.0000, 0.0000, 0.0000, 0.0000],\n",
       "        device='cuda:0'))"
      ]
     },
     "execution_count": 50,
     "metadata": {},
     "output_type": "execute_result"
    }
   ],
   "source": [
    "w_p[8, 0], w_c[8, 0]"
   ]
  },
  {
   "cell_type": "markdown",
   "id": "basic-apple",
   "metadata": {},
   "source": [
    "### Test the training process"
   ]
  },
  {
   "cell_type": "code",
   "execution_count": 128,
   "id": "premier-lending",
   "metadata": {},
   "outputs": [],
   "source": [
    "optim = torch.optim.SGD(params=tree.parameters(), lr=1e6)"
   ]
  },
  {
   "cell_type": "code",
   "execution_count": 129,
   "id": "confused-friend",
   "metadata": {},
   "outputs": [],
   "source": [
    "dev = \"cuda\""
   ]
  },
  {
   "cell_type": "code",
   "execution_count": 130,
   "id": "severe-individual",
   "metadata": {
    "scrolled": true
   },
   "outputs": [
    {
     "name": "stdout",
     "output_type": "stream",
     "text": [
      "tensor(0.0960, device='cuda:0', grad_fn=<MseLossBackward0>)\n",
      "tensor(0.1105, device='cuda:0', grad_fn=<MseLossBackward0>)\n",
      "tensor(0.0902, device='cuda:0', grad_fn=<MseLossBackward0>)\n",
      "tensor(0.0735, device='cuda:0', grad_fn=<MseLossBackward0>)\n",
      "tensor(0.0628, device='cuda:0', grad_fn=<MseLossBackward0>)\n",
      "tensor(0.0522, device='cuda:0', grad_fn=<MseLossBackward0>)\n",
      "tensor(0.0477, device='cuda:0', grad_fn=<MseLossBackward0>)\n",
      "tensor(0.0415, device='cuda:0', grad_fn=<MseLossBackward0>)\n",
      "tensor(0.0369, device='cuda:0', grad_fn=<MseLossBackward0>)\n",
      "tensor(0.0355, device='cuda:0', grad_fn=<MseLossBackward0>)\n",
      "tensor(0.0313, device='cuda:0', grad_fn=<MseLossBackward0>)\n",
      "tensor(0.0283, device='cuda:0', grad_fn=<MseLossBackward0>)\n",
      "tensor(0.0271, device='cuda:0', grad_fn=<MseLossBackward0>)\n",
      "tensor(0.0262, device='cuda:0', grad_fn=<MseLossBackward0>)\n",
      "tensor(0.0248, device='cuda:0', grad_fn=<MseLossBackward0>)\n",
      "tensor(0.0231, device='cuda:0', grad_fn=<MseLossBackward0>)\n",
      "tensor(0.0227, device='cuda:0', grad_fn=<MseLossBackward0>)\n",
      "tensor(0.0210, device='cuda:0', grad_fn=<MseLossBackward0>)\n",
      "tensor(0.0211, device='cuda:0', grad_fn=<MseLossBackward0>)\n",
      "tensor(0.0186, device='cuda:0', grad_fn=<MseLossBackward0>)\n",
      "tensor(0.0206, device='cuda:0', grad_fn=<MseLossBackward0>)\n",
      "tensor(0.0173, device='cuda:0', grad_fn=<MseLossBackward0>)\n",
      "tensor(0.0170, device='cuda:0', grad_fn=<MseLossBackward0>)\n",
      "tensor(0.0172, device='cuda:0', grad_fn=<MseLossBackward0>)\n",
      "tensor(0.0164, device='cuda:0', grad_fn=<MseLossBackward0>)\n",
      "tensor(0.0160, device='cuda:0', grad_fn=<MseLossBackward0>)\n",
      "tensor(0.0151, device='cuda:0', grad_fn=<MseLossBackward0>)\n",
      "tensor(0.0149, device='cuda:0', grad_fn=<MseLossBackward0>)\n",
      "tensor(0.0158, device='cuda:0', grad_fn=<MseLossBackward0>)\n",
      "tensor(0.0133, device='cuda:0', grad_fn=<MseLossBackward0>)\n",
      "tensor(0.0142, device='cuda:0', grad_fn=<MseLossBackward0>)\n",
      "tensor(0.0135, device='cuda:0', grad_fn=<MseLossBackward0>)\n",
      "tensor(0.0132, device='cuda:0', grad_fn=<MseLossBackward0>)\n",
      "tensor(0.0131, device='cuda:0', grad_fn=<MseLossBackward0>)\n",
      "tensor(0.0122, device='cuda:0', grad_fn=<MseLossBackward0>)\n",
      "tensor(0.0132, device='cuda:0', grad_fn=<MseLossBackward0>)\n",
      "tensor(0.0121, device='cuda:0', grad_fn=<MseLossBackward0>)\n",
      "tensor(0.0125, device='cuda:0', grad_fn=<MseLossBackward0>)\n",
      "tensor(0.0117, device='cuda:0', grad_fn=<MseLossBackward0>)\n",
      "tensor(0.0125, device='cuda:0', grad_fn=<MseLossBackward0>)\n",
      "tensor(0.0116, device='cuda:0', grad_fn=<MseLossBackward0>)\n",
      "tensor(0.0117, device='cuda:0', grad_fn=<MseLossBackward0>)\n",
      "tensor(0.0122, device='cuda:0', grad_fn=<MseLossBackward0>)\n",
      "tensor(0.0108, device='cuda:0', grad_fn=<MseLossBackward0>)\n",
      "tensor(0.0112, device='cuda:0', grad_fn=<MseLossBackward0>)\n",
      "tensor(0.0114, device='cuda:0', grad_fn=<MseLossBackward0>)\n",
      "tensor(0.0117, device='cuda:0', grad_fn=<MseLossBackward0>)\n",
      "tensor(0.0103, device='cuda:0', grad_fn=<MseLossBackward0>)\n",
      "tensor(0.0103, device='cuda:0', grad_fn=<MseLossBackward0>)\n",
      "tensor(0.0107, device='cuda:0', grad_fn=<MseLossBackward0>)\n",
      "tensor(0.0102, device='cuda:0', grad_fn=<MseLossBackward0>)\n",
      "tensor(0.0104, device='cuda:0', grad_fn=<MseLossBackward0>)\n",
      "tensor(0.0102, device='cuda:0', grad_fn=<MseLossBackward0>)\n",
      "tensor(0.0103, device='cuda:0', grad_fn=<MseLossBackward0>)\n",
      "tensor(0.0101, device='cuda:0', grad_fn=<MseLossBackward0>)\n",
      "tensor(0.0097, device='cuda:0', grad_fn=<MseLossBackward0>)\n",
      "tensor(0.0096, device='cuda:0', grad_fn=<MseLossBackward0>)\n",
      "tensor(0.0089, device='cuda:0', grad_fn=<MseLossBackward0>)\n",
      "tensor(0.0095, device='cuda:0', grad_fn=<MseLossBackward0>)\n",
      "tensor(0.0094, device='cuda:0', grad_fn=<MseLossBackward0>)\n",
      "tensor(0.0099, device='cuda:0', grad_fn=<MseLossBackward0>)\n",
      "tensor(0.0091, device='cuda:0', grad_fn=<MseLossBackward0>)\n",
      "tensor(0.0091, device='cuda:0', grad_fn=<MseLossBackward0>)\n",
      "tensor(0.0087, device='cuda:0', grad_fn=<MseLossBackward0>)\n",
      "tensor(0.0091, device='cuda:0', grad_fn=<MseLossBackward0>)\n",
      "tensor(0.0084, device='cuda:0', grad_fn=<MseLossBackward0>)\n",
      "tensor(0.0094, device='cuda:0', grad_fn=<MseLossBackward0>)\n",
      "tensor(0.0086, device='cuda:0', grad_fn=<MseLossBackward0>)\n",
      "tensor(0.0085, device='cuda:0', grad_fn=<MseLossBackward0>)\n",
      "tensor(0.0080, device='cuda:0', grad_fn=<MseLossBackward0>)\n",
      "tensor(0.0087, device='cuda:0', grad_fn=<MseLossBackward0>)\n",
      "tensor(0.0083, device='cuda:0', grad_fn=<MseLossBackward0>)\n",
      "tensor(0.0086, device='cuda:0', grad_fn=<MseLossBackward0>)\n",
      "tensor(0.0091, device='cuda:0', grad_fn=<MseLossBackward0>)\n",
      "tensor(0.0078, device='cuda:0', grad_fn=<MseLossBackward0>)\n",
      "tensor(0.0081, device='cuda:0', grad_fn=<MseLossBackward0>)\n",
      "tensor(0.0080, device='cuda:0', grad_fn=<MseLossBackward0>)\n",
      "tensor(0.0078, device='cuda:0', grad_fn=<MseLossBackward0>)\n",
      "tensor(0.0077, device='cuda:0', grad_fn=<MseLossBackward0>)\n",
      "tensor(0.0079, device='cuda:0', grad_fn=<MseLossBackward0>)\n",
      "tensor(0.0084, device='cuda:0', grad_fn=<MseLossBackward0>)\n",
      "tensor(0.0078, device='cuda:0', grad_fn=<MseLossBackward0>)\n",
      "tensor(0.0083, device='cuda:0', grad_fn=<MseLossBackward0>)\n",
      "tensor(0.0078, device='cuda:0', grad_fn=<MseLossBackward0>)\n",
      "tensor(0.0074, device='cuda:0', grad_fn=<MseLossBackward0>)\n",
      "tensor(0.0076, device='cuda:0', grad_fn=<MseLossBackward0>)\n",
      "tensor(0.0079, device='cuda:0', grad_fn=<MseLossBackward0>)\n",
      "tensor(0.0076, device='cuda:0', grad_fn=<MseLossBackward0>)\n",
      "tensor(0.0080, device='cuda:0', grad_fn=<MseLossBackward0>)\n",
      "tensor(0.0077, device='cuda:0', grad_fn=<MseLossBackward0>)\n",
      "tensor(0.0067, device='cuda:0', grad_fn=<MseLossBackward0>)\n",
      "tensor(0.0067, device='cuda:0', grad_fn=<MseLossBackward0>)\n",
      "tensor(0.0078, device='cuda:0', grad_fn=<MseLossBackward0>)\n",
      "tensor(0.0080, device='cuda:0', grad_fn=<MseLossBackward0>)\n",
      "tensor(0.0067, device='cuda:0', grad_fn=<MseLossBackward0>)\n",
      "tensor(0.0074, device='cuda:0', grad_fn=<MseLossBackward0>)\n",
      "tensor(0.0079, device='cuda:0', grad_fn=<MseLossBackward0>)\n",
      "tensor(0.0070, device='cuda:0', grad_fn=<MseLossBackward0>)\n",
      "tensor(0.0067, device='cuda:0', grad_fn=<MseLossBackward0>)\n",
      "tensor(0.0072, device='cuda:0', grad_fn=<MseLossBackward0>)\n",
      "tensor(0.0076, device='cuda:0', grad_fn=<MseLossBackward0>)\n",
      "tensor(0.0069, device='cuda:0', grad_fn=<MseLossBackward0>)\n",
      "tensor(0.0074, device='cuda:0', grad_fn=<MseLossBackward0>)\n",
      "tensor(0.0074, device='cuda:0', grad_fn=<MseLossBackward0>)\n",
      "tensor(0.0076, device='cuda:0', grad_fn=<MseLossBackward0>)\n",
      "tensor(0.0065, device='cuda:0', grad_fn=<MseLossBackward0>)\n",
      "tensor(0.0064, device='cuda:0', grad_fn=<MseLossBackward0>)\n",
      "tensor(0.0069, device='cuda:0', grad_fn=<MseLossBackward0>)\n",
      "tensor(0.0066, device='cuda:0', grad_fn=<MseLossBackward0>)\n",
      "tensor(0.0071, device='cuda:0', grad_fn=<MseLossBackward0>)\n",
      "tensor(0.0076, device='cuda:0', grad_fn=<MseLossBackward0>)\n",
      "tensor(0.0076, device='cuda:0', grad_fn=<MseLossBackward0>)\n",
      "tensor(0.0071, device='cuda:0', grad_fn=<MseLossBackward0>)\n",
      "tensor(0.0068, device='cuda:0', grad_fn=<MseLossBackward0>)\n",
      "tensor(0.0064, device='cuda:0', grad_fn=<MseLossBackward0>)\n",
      "tensor(0.0071, device='cuda:0', grad_fn=<MseLossBackward0>)\n",
      "tensor(0.0069, device='cuda:0', grad_fn=<MseLossBackward0>)\n",
      "tensor(0.0071, device='cuda:0', grad_fn=<MseLossBackward0>)\n",
      "tensor(0.0065, device='cuda:0', grad_fn=<MseLossBackward0>)\n",
      "tensor(0.0063, device='cuda:0', grad_fn=<MseLossBackward0>)\n",
      "tensor(0.0069, device='cuda:0', grad_fn=<MseLossBackward0>)\n",
      "tensor(0.0065, device='cuda:0', grad_fn=<MseLossBackward0>)\n",
      "tensor(0.0064, device='cuda:0', grad_fn=<MseLossBackward0>)\n",
      "tensor(0.0065, device='cuda:0', grad_fn=<MseLossBackward0>)\n",
      "tensor(0.0065, device='cuda:0', grad_fn=<MseLossBackward0>)\n",
      "tensor(0.0065, device='cuda:0', grad_fn=<MseLossBackward0>)\n",
      "tensor(0.0067, device='cuda:0', grad_fn=<MseLossBackward0>)\n",
      "tensor(0.0063, device='cuda:0', grad_fn=<MseLossBackward0>)\n",
      "tensor(0.0065, device='cuda:0', grad_fn=<MseLossBackward0>)\n",
      "tensor(0.0062, device='cuda:0', grad_fn=<MseLossBackward0>)\n",
      "tensor(0.0066, device='cuda:0', grad_fn=<MseLossBackward0>)\n",
      "tensor(0.0062, device='cuda:0', grad_fn=<MseLossBackward0>)\n",
      "tensor(0.0062, device='cuda:0', grad_fn=<MseLossBackward0>)\n",
      "tensor(0.0068, device='cuda:0', grad_fn=<MseLossBackward0>)\n",
      "tensor(0.0064, device='cuda:0', grad_fn=<MseLossBackward0>)\n",
      "tensor(0.0067, device='cuda:0', grad_fn=<MseLossBackward0>)\n",
      "tensor(0.0058, device='cuda:0', grad_fn=<MseLossBackward0>)\n"
     ]
    },
    {
     "name": "stdout",
     "output_type": "stream",
     "text": [
      "tensor(0.0062, device='cuda:0', grad_fn=<MseLossBackward0>)\n",
      "tensor(0.0063, device='cuda:0', grad_fn=<MseLossBackward0>)\n",
      "tensor(0.0061, device='cuda:0', grad_fn=<MseLossBackward0>)\n",
      "tensor(0.0065, device='cuda:0', grad_fn=<MseLossBackward0>)\n",
      "tensor(0.0063, device='cuda:0', grad_fn=<MseLossBackward0>)\n",
      "tensor(0.0064, device='cuda:0', grad_fn=<MseLossBackward0>)\n",
      "tensor(0.0059, device='cuda:0', grad_fn=<MseLossBackward0>)\n",
      "tensor(0.0067, device='cuda:0', grad_fn=<MseLossBackward0>)\n",
      "tensor(0.0060, device='cuda:0', grad_fn=<MseLossBackward0>)\n",
      "tensor(0.0062, device='cuda:0', grad_fn=<MseLossBackward0>)\n",
      "tensor(0.0055, device='cuda:0', grad_fn=<MseLossBackward0>)\n",
      "tensor(0.0064, device='cuda:0', grad_fn=<MseLossBackward0>)\n",
      "tensor(0.0058, device='cuda:0', grad_fn=<MseLossBackward0>)\n",
      "tensor(0.0055, device='cuda:0', grad_fn=<MseLossBackward0>)\n",
      "tensor(0.0062, device='cuda:0', grad_fn=<MseLossBackward0>)\n",
      "tensor(0.0065, device='cuda:0', grad_fn=<MseLossBackward0>)\n",
      "tensor(0.0060, device='cuda:0', grad_fn=<MseLossBackward0>)\n",
      "tensor(0.0061, device='cuda:0', grad_fn=<MseLossBackward0>)\n",
      "tensor(0.0063, device='cuda:0', grad_fn=<MseLossBackward0>)\n",
      "tensor(0.0058, device='cuda:0', grad_fn=<MseLossBackward0>)\n",
      "tensor(0.0059, device='cuda:0', grad_fn=<MseLossBackward0>)\n",
      "tensor(0.0059, device='cuda:0', grad_fn=<MseLossBackward0>)\n",
      "tensor(0.0064, device='cuda:0', grad_fn=<MseLossBackward0>)\n",
      "tensor(0.0063, device='cuda:0', grad_fn=<MseLossBackward0>)\n",
      "tensor(0.0053, device='cuda:0', grad_fn=<MseLossBackward0>)\n",
      "tensor(0.0056, device='cuda:0', grad_fn=<MseLossBackward0>)\n",
      "tensor(0.0061, device='cuda:0', grad_fn=<MseLossBackward0>)\n",
      "tensor(0.0060, device='cuda:0', grad_fn=<MseLossBackward0>)\n",
      "tensor(0.0059, device='cuda:0', grad_fn=<MseLossBackward0>)\n",
      "tensor(0.0050, device='cuda:0', grad_fn=<MseLossBackward0>)\n",
      "tensor(0.0054, device='cuda:0', grad_fn=<MseLossBackward0>)\n",
      "tensor(0.0058, device='cuda:0', grad_fn=<MseLossBackward0>)\n",
      "tensor(0.0059, device='cuda:0', grad_fn=<MseLossBackward0>)\n",
      "tensor(0.0058, device='cuda:0', grad_fn=<MseLossBackward0>)\n",
      "tensor(0.0053, device='cuda:0', grad_fn=<MseLossBackward0>)\n",
      "tensor(0.0058, device='cuda:0', grad_fn=<MseLossBackward0>)\n",
      "tensor(0.0059, device='cuda:0', grad_fn=<MseLossBackward0>)\n",
      "tensor(0.0056, device='cuda:0', grad_fn=<MseLossBackward0>)\n",
      "tensor(0.0061, device='cuda:0', grad_fn=<MseLossBackward0>)\n",
      "tensor(0.0053, device='cuda:0', grad_fn=<MseLossBackward0>)\n",
      "tensor(0.0062, device='cuda:0', grad_fn=<MseLossBackward0>)\n",
      "tensor(0.0055, device='cuda:0', grad_fn=<MseLossBackward0>)\n",
      "tensor(0.0056, device='cuda:0', grad_fn=<MseLossBackward0>)\n",
      "tensor(0.0055, device='cuda:0', grad_fn=<MseLossBackward0>)\n",
      "tensor(0.0056, device='cuda:0', grad_fn=<MseLossBackward0>)\n",
      "tensor(0.0055, device='cuda:0', grad_fn=<MseLossBackward0>)\n",
      "tensor(0.0055, device='cuda:0', grad_fn=<MseLossBackward0>)\n",
      "tensor(0.0055, device='cuda:0', grad_fn=<MseLossBackward0>)\n",
      "tensor(0.0057, device='cuda:0', grad_fn=<MseLossBackward0>)\n",
      "tensor(0.0053, device='cuda:0', grad_fn=<MseLossBackward0>)\n",
      "tensor(0.0054, device='cuda:0', grad_fn=<MseLossBackward0>)\n",
      "tensor(0.0056, device='cuda:0', grad_fn=<MseLossBackward0>)\n",
      "tensor(0.0060, device='cuda:0', grad_fn=<MseLossBackward0>)\n",
      "tensor(0.0054, device='cuda:0', grad_fn=<MseLossBackward0>)\n",
      "tensor(0.0060, device='cuda:0', grad_fn=<MseLossBackward0>)\n",
      "tensor(0.0051, device='cuda:0', grad_fn=<MseLossBackward0>)\n",
      "tensor(0.0053, device='cuda:0', grad_fn=<MseLossBackward0>)\n",
      "tensor(0.0055, device='cuda:0', grad_fn=<MseLossBackward0>)\n",
      "tensor(0.0055, device='cuda:0', grad_fn=<MseLossBackward0>)\n",
      "tensor(0.0054, device='cuda:0', grad_fn=<MseLossBackward0>)\n",
      "tensor(0.0054, device='cuda:0', grad_fn=<MseLossBackward0>)\n",
      "tensor(0.0055, device='cuda:0', grad_fn=<MseLossBackward0>)\n",
      "tensor(0.0054, device='cuda:0', grad_fn=<MseLossBackward0>)\n",
      "tensor(0.0056, device='cuda:0', grad_fn=<MseLossBackward0>)\n",
      "tensor(0.0059, device='cuda:0', grad_fn=<MseLossBackward0>)\n",
      "tensor(0.0052, device='cuda:0', grad_fn=<MseLossBackward0>)\n",
      "tensor(0.0055, device='cuda:0', grad_fn=<MseLossBackward0>)\n",
      "tensor(0.0057, device='cuda:0', grad_fn=<MseLossBackward0>)\n",
      "tensor(0.0053, device='cuda:0', grad_fn=<MseLossBackward0>)\n",
      "tensor(0.0055, device='cuda:0', grad_fn=<MseLossBackward0>)\n",
      "tensor(0.0056, device='cuda:0', grad_fn=<MseLossBackward0>)\n",
      "tensor(0.0053, device='cuda:0', grad_fn=<MseLossBackward0>)\n",
      "tensor(0.0055, device='cuda:0', grad_fn=<MseLossBackward0>)\n",
      "tensor(0.0060, device='cuda:0', grad_fn=<MseLossBackward0>)\n",
      "tensor(0.0053, device='cuda:0', grad_fn=<MseLossBackward0>)\n",
      "tensor(0.0053, device='cuda:0', grad_fn=<MseLossBackward0>)\n",
      "tensor(0.0058, device='cuda:0', grad_fn=<MseLossBackward0>)\n",
      "tensor(0.0053, device='cuda:0', grad_fn=<MseLossBackward0>)\n",
      "tensor(0.0052, device='cuda:0', grad_fn=<MseLossBackward0>)\n",
      "tensor(0.0053, device='cuda:0', grad_fn=<MseLossBackward0>)\n",
      "tensor(0.0053, device='cuda:0', grad_fn=<MseLossBackward0>)\n",
      "tensor(0.0047, device='cuda:0', grad_fn=<MseLossBackward0>)\n",
      "tensor(0.0058, device='cuda:0', grad_fn=<MseLossBackward0>)\n",
      "tensor(0.0055, device='cuda:0', grad_fn=<MseLossBackward0>)\n",
      "tensor(0.0059, device='cuda:0', grad_fn=<MseLossBackward0>)\n",
      "tensor(0.0052, device='cuda:0', grad_fn=<MseLossBackward0>)\n",
      "tensor(0.0055, device='cuda:0', grad_fn=<MseLossBackward0>)\n",
      "tensor(0.0053, device='cuda:0', grad_fn=<MseLossBackward0>)\n",
      "tensor(0.0049, device='cuda:0', grad_fn=<MseLossBackward0>)\n",
      "tensor(0.0049, device='cuda:0', grad_fn=<MseLossBackward0>)\n",
      "tensor(0.0057, device='cuda:0', grad_fn=<MseLossBackward0>)\n",
      "tensor(0.0047, device='cuda:0', grad_fn=<MseLossBackward0>)\n",
      "tensor(0.0052, device='cuda:0', grad_fn=<MseLossBackward0>)\n",
      "tensor(0.0050, device='cuda:0', grad_fn=<MseLossBackward0>)\n",
      "tensor(0.0054, device='cuda:0', grad_fn=<MseLossBackward0>)\n",
      "tensor(0.0048, device='cuda:0', grad_fn=<MseLossBackward0>)\n",
      "tensor(0.0055, device='cuda:0', grad_fn=<MseLossBackward0>)\n",
      "tensor(0.0052, device='cuda:0', grad_fn=<MseLossBackward0>)\n",
      "tensor(0.0058, device='cuda:0', grad_fn=<MseLossBackward0>)\n",
      "tensor(0.0059, device='cuda:0', grad_fn=<MseLossBackward0>)\n",
      "tensor(0.0050, device='cuda:0', grad_fn=<MseLossBackward0>)\n",
      "tensor(0.0054, device='cuda:0', grad_fn=<MseLossBackward0>)\n",
      "tensor(0.0054, device='cuda:0', grad_fn=<MseLossBackward0>)\n",
      "tensor(0.0053, device='cuda:0', grad_fn=<MseLossBackward0>)\n",
      "tensor(0.0058, device='cuda:0', grad_fn=<MseLossBackward0>)\n",
      "tensor(0.0050, device='cuda:0', grad_fn=<MseLossBackward0>)\n",
      "tensor(0.0046, device='cuda:0', grad_fn=<MseLossBackward0>)\n",
      "tensor(0.0047, device='cuda:0', grad_fn=<MseLossBackward0>)\n",
      "tensor(0.0048, device='cuda:0', grad_fn=<MseLossBackward0>)\n",
      "tensor(0.0056, device='cuda:0', grad_fn=<MseLossBackward0>)\n",
      "tensor(0.0052, device='cuda:0', grad_fn=<MseLossBackward0>)\n",
      "tensor(0.0055, device='cuda:0', grad_fn=<MseLossBackward0>)\n",
      "tensor(0.0053, device='cuda:0', grad_fn=<MseLossBackward0>)\n",
      "tensor(0.0053, device='cuda:0', grad_fn=<MseLossBackward0>)\n",
      "tensor(0.0056, device='cuda:0', grad_fn=<MseLossBackward0>)\n",
      "tensor(0.0050, device='cuda:0', grad_fn=<MseLossBackward0>)\n",
      "tensor(0.0048, device='cuda:0', grad_fn=<MseLossBackward0>)\n",
      "tensor(0.0047, device='cuda:0', grad_fn=<MseLossBackward0>)\n",
      "tensor(0.0051, device='cuda:0', grad_fn=<MseLossBackward0>)\n",
      "tensor(0.0053, device='cuda:0', grad_fn=<MseLossBackward0>)\n",
      "tensor(0.0050, device='cuda:0', grad_fn=<MseLossBackward0>)\n",
      "tensor(0.0049, device='cuda:0', grad_fn=<MseLossBackward0>)\n",
      "tensor(0.0047, device='cuda:0', grad_fn=<MseLossBackward0>)\n",
      "tensor(0.0050, device='cuda:0', grad_fn=<MseLossBackward0>)\n",
      "tensor(0.0050, device='cuda:0', grad_fn=<MseLossBackward0>)\n",
      "tensor(0.0053, device='cuda:0', grad_fn=<MseLossBackward0>)\n",
      "tensor(0.0049, device='cuda:0', grad_fn=<MseLossBackward0>)\n",
      "tensor(0.0048, device='cuda:0', grad_fn=<MseLossBackward0>)\n",
      "tensor(0.0053, device='cuda:0', grad_fn=<MseLossBackward0>)\n",
      "tensor(0.0046, device='cuda:0', grad_fn=<MseLossBackward0>)\n",
      "tensor(0.0049, device='cuda:0', grad_fn=<MseLossBackward0>)\n",
      "tensor(0.0048, device='cuda:0', grad_fn=<MseLossBackward0>)\n",
      "tensor(0.0049, device='cuda:0', grad_fn=<MseLossBackward0>)\n",
      "tensor(0.0050, device='cuda:0', grad_fn=<MseLossBackward0>)\n",
      "tensor(0.0050, device='cuda:0', grad_fn=<MseLossBackward0>)\n",
      "tensor(0.0051, device='cuda:0', grad_fn=<MseLossBackward0>)\n",
      "tensor(0.0050, device='cuda:0', grad_fn=<MseLossBackward0>)\n",
      "tensor(0.0049, device='cuda:0', grad_fn=<MseLossBackward0>)\n"
     ]
    },
    {
     "name": "stdout",
     "output_type": "stream",
     "text": [
      "tensor(0.0052, device='cuda:0', grad_fn=<MseLossBackward0>)\n",
      "tensor(0.0049, device='cuda:0', grad_fn=<MseLossBackward0>)\n",
      "tensor(0.0045, device='cuda:0', grad_fn=<MseLossBackward0>)\n",
      "tensor(0.0054, device='cuda:0', grad_fn=<MseLossBackward0>)\n",
      "tensor(0.0047, device='cuda:0', grad_fn=<MseLossBackward0>)\n",
      "tensor(0.0047, device='cuda:0', grad_fn=<MseLossBackward0>)\n",
      "tensor(0.0048, device='cuda:0', grad_fn=<MseLossBackward0>)\n",
      "tensor(0.0054, device='cuda:0', grad_fn=<MseLossBackward0>)\n",
      "tensor(0.0054, device='cuda:0', grad_fn=<MseLossBackward0>)\n",
      "tensor(0.0047, device='cuda:0', grad_fn=<MseLossBackward0>)\n",
      "tensor(0.0050, device='cuda:0', grad_fn=<MseLossBackward0>)\n",
      "tensor(0.0047, device='cuda:0', grad_fn=<MseLossBackward0>)\n",
      "tensor(0.0052, device='cuda:0', grad_fn=<MseLossBackward0>)\n",
      "tensor(0.0050, device='cuda:0', grad_fn=<MseLossBackward0>)\n",
      "tensor(0.0046, device='cuda:0', grad_fn=<MseLossBackward0>)\n",
      "tensor(0.0046, device='cuda:0', grad_fn=<MseLossBackward0>)\n",
      "tensor(0.0051, device='cuda:0', grad_fn=<MseLossBackward0>)\n",
      "tensor(0.0050, device='cuda:0', grad_fn=<MseLossBackward0>)\n",
      "tensor(0.0051, device='cuda:0', grad_fn=<MseLossBackward0>)\n",
      "tensor(0.0049, device='cuda:0', grad_fn=<MseLossBackward0>)\n",
      "tensor(0.0048, device='cuda:0', grad_fn=<MseLossBackward0>)\n",
      "tensor(0.0044, device='cuda:0', grad_fn=<MseLossBackward0>)\n",
      "tensor(0.0058, device='cuda:0', grad_fn=<MseLossBackward0>)\n",
      "tensor(0.0046, device='cuda:0', grad_fn=<MseLossBackward0>)\n",
      "tensor(0.0044, device='cuda:0', grad_fn=<MseLossBackward0>)\n"
     ]
    }
   ],
   "source": [
    "for i in range(300):\n",
    "    rays, imgs = next(data_iter)\n",
    "    imgs = imgs.to(device=dev)\n",
    "    rays_o = rays[:, 0].contiguous().to(device=dev)\n",
    "    rays_d = rays[:, 1].contiguous().to(device=dev)\n",
    "    rays_d /= torch.linalg.norm(rays_d, dim=1, keepdim=True)\n",
    "    preds = tree(rays_o, rays_d, use_ext=True)\n",
    "    loss = F.mse_loss(preds, imgs)\n",
    "    optim.zero_grad()\n",
    "    loss.backward()\n",
    "    print(loss)\n",
    "    optim.step()"
   ]
  },
  {
   "cell_type": "code",
   "execution_count": 131,
   "id": "isolated-olive",
   "metadata": {
    "scrolled": true
   },
   "outputs": [
    {
     "data": {
      "image/png": "[encoded data removed]",
      "text/plain": [
       "<Figure size 432x288 with 1 Axes>"
      ]
     },
     "metadata": {
      "needs_background": "light"
     },
     "output_type": "display_data"
    }
   ],
   "source": [
    "plot_ts(ts_dset, tree, use_ext=True, batch_size=10000)"
   ]
  },
  {
   "cell_type": "code",
   "execution_count": 44,
   "id": "classified-weekly",
   "metadata": {},
   "outputs": [],
   "source": []
  },
  {
   "cell_type": "markdown",
   "id": "ready-finder",
   "metadata": {},
   "source": [
    "## Test simple tree"
   ]
  },
  {
   "cell_type": "code",
   "execution_count": 4,
   "id": "latest-storm",
   "metadata": {},
   "outputs": [],
   "source": [
    "tree = Octree(max_internal_nodes=1, initial_levels=1, \n",
    "              sh_degree=1, render_opt=init_render_opt(),\n",
    "              branching=2, radius=None, center=None,\n",
    "              parent_sum=True, dtype=torch.float32).cuda()"
   ]
  },
  {
   "cell_type": "code",
   "execution_count": 21,
   "id": "fantastic-duncan",
   "metadata": {},
   "outputs": [
    {
     "data": {
      "text/plain": [
       "tensor([[ 12.,  12.,  12.],\n",
       "        [-11., -11., -11.],\n",
       "        [-11., -11., -10.],\n",
       "        [-11., -10., -11.],\n",
       "        [-11., -10., -10.],\n",
       "        [-10., -11., -11.],\n",
       "        [-10., -11., -10.],\n",
       "        [-10., -10., -11.],\n",
       "        [-10., -10., -10.]], device='cuda:0', grad_fn=<SliceBackward0>)"
      ]
     },
     "execution_count": 21,
     "metadata": {},
     "output_type": "execute_result"
    }
   ],
   "source": [
    "tree.data[:, :3]"
   ]
  },
  {
   "cell_type": "code",
   "execution_count": 19,
   "id": "differential-nomination",
   "metadata": {},
   "outputs": [
    {
     "data": {
      "text/plain": [
       "(tensor([[10.8032, 10.8882, 10.8882,  0.0000,  0.0000,  0.0000,  0.0000,  0.0000,\n",
       "           0.0000,  0.0000,  0.0000,  0.0000,  0.0000]], device='cuda:0'),\n",
       " tensor([[0.0850, 0.1700, 0.1700, 0.3398, 0.0262, 0.0523, 0.0523, 0.1045]],\n",
       "        device='cuda:0'),\n",
       " tensor([[ 4, -1, -1, -1,  8, -1, -1, -1]], device='cuda:0'))"
      ]
     },
     "execution_count": 19,
     "metadata": {},
     "output_type": "execute_result"
    }
   ],
   "source": [
    " tree.query_interp(torch.tensor([[0.25, 0.75, 0.75]]).cuda())"
   ]
  },
  {
   "cell_type": "code",
   "execution_count": 10,
   "id": "crucial-hamilton",
   "metadata": {},
   "outputs": [],
   "source": [
    "with torch.autograd.no_grad():\n",
    "    indices = torch.tensor([[0.25, 0.25, 0.25],\n",
    "                            [0.25, 0.25, 0.75],\n",
    "                            [0.25, 0.75, 0.25],\n",
    "                            [0.25, 0.75, 0.75],\n",
    "                            [0.75, 0.25, 0.25],\n",
    "                            [0.75, 0.25, 0.75],\n",
    "                            [0.75, 0.75, 0.25],\n",
    "                            [0.75, 0.75, 0.75]]).cuda()\n",
    "    values = torch.tensor([[1, 1, 1, 0, 0, 0, 0, 0, 0, 0, 0, 0, 0],\n",
    "                           [1, 1, 2, 0, 0, 0, 0, 0, 0, 0, 0, 0, 0],\n",
    "                           [1, 2, 1, 0, 0, 0, 0, 0, 0, 0, 0, 0, 0],\n",
    "                           [1, 2, 2, 0, 0, 0, 0, 0, 0, 0, 0, 0, 0],\n",
    "                           [2, 1, 1, 0, 0, 0, 0, 0, 0, 0, 0, 0, 0],\n",
    "                           [2, 1, 2, 0, 0, 0, 0, 0, 0, 0, 0, 0, 0],\n",
    "                           [2, 2, 1, 0, 0, 0, 0, 0, 0, 0, 0, 0, 0],\n",
    "                           [2, 2, 2, 0, 0, 0, 0, 0, 0, 0, 0, 0, 0]]).float().cuda()\n",
    "    tree.set(indices, values, True)"
   ]
  },
  {
   "cell_type": "code",
   "execution_count": 7,
   "id": "automated-voluntary",
   "metadata": {},
   "outputs": [
    {
     "data": {
      "text/plain": [
       "(N3TreeView(tensor([1., 1., 1.], device='cuda:0', grad_fn=<SelectBackward0>)),\n",
       " N3TreeView(tensor([1., 1., 2.], device='cuda:0', grad_fn=<SelectBackward0>)),\n",
       " N3TreeView(tensor([1., 2., 1.], device='cuda:0', grad_fn=<SelectBackward0>)),\n",
       " N3TreeView(tensor([1., 2., 2.], device='cuda:0', grad_fn=<SelectBackward0>)),\n",
       " N3TreeView(tensor([2., 1., 1.], device='cuda:0', grad_fn=<SelectBackward0>)),\n",
       " N3TreeView(tensor([2., 1., 2.], device='cuda:0', grad_fn=<SelectBackward0>)),\n",
       " N3TreeView(tensor([2., 2., 1.], device='cuda:0', grad_fn=<SelectBackward0>)),\n",
       " N3TreeView(tensor([2., 2., 2.], device='cuda:0', grad_fn=<SelectBackward0>)))"
      ]
     },
     "execution_count": 7,
     "metadata": {},
     "output_type": "execute_result"
    }
   ],
   "source": [
    "tree[0], tree[1], tree[2], tree[3], tree[4], tree[5], tree[6], tree[7]"
   ]
  },
  {
   "cell_type": "code",
   "execution_count": 8,
   "id": "transsexual-fleet",
   "metadata": {},
   "outputs": [
    {
     "data": {
      "text/plain": [
       "tensor([[0, 0, 0, 0],\n",
       "        [0, 0, 0, 1],\n",
       "        [0, 0, 1, 0],\n",
       "        [0, 0, 1, 1],\n",
       "        [0, 1, 0, 0],\n",
       "        [0, 1, 0, 1],\n",
       "        [0, 1, 1, 0],\n",
       "        [0, 1, 1, 1]])"
      ]
     },
     "execution_count": 8,
     "metadata": {},
     "output_type": "execute_result"
    }
   ],
   "source": [
    "tree._all_leaves()"
   ]
  },
  {
   "cell_type": "code",
   "execution_count": 9,
   "id": "compact-stability",
   "metadata": {},
   "outputs": [
    {
     "name": "stdout",
     "output_type": "stream",
     "text": [
      "(tensor([0]), tensor([0]), tensor([0]), tensor([0]))\n"
     ]
    },
    {
     "data": {
      "text/plain": [
       "True"
      ]
     },
     "execution_count": 9,
     "metadata": {},
     "output_type": "execute_result"
    }
   ],
   "source": [
    "sel = (*tree._all_leaves()[:1].T,)\n",
    "print(sel)\n",
    "tree.refine(sel=sel)"
   ]
  },
  {
   "cell_type": "code",
   "execution_count": 10,
   "id": "spanish-consumer",
   "metadata": {},
   "outputs": [
    {
     "data": {
      "text/plain": [
       "Parameter containing:\n",
       "tensor([[[[[1., 1., 1.],\n",
       "           [1., 1., 2.]],\n",
       "\n",
       "          [[1., 2., 1.],\n",
       "           [1., 2., 2.]]],\n",
       "\n",
       "\n",
       "         [[[2., 1., 1.],\n",
       "           [2., 1., 2.]],\n",
       "\n",
       "          [[2., 2., 1.],\n",
       "           [2., 2., 2.]]]],\n",
       "\n",
       "\n",
       "\n",
       "        [[[[0., 0., 0.],\n",
       "           [0., 0., 0.]],\n",
       "\n",
       "          [[0., 0., 0.],\n",
       "           [0., 0., 0.]]],\n",
       "\n",
       "\n",
       "         [[[0., 0., 0.],\n",
       "           [0., 0., 0.]],\n",
       "\n",
       "          [[0., 0., 0.],\n",
       "           [0., 0., 0.]]]]], device='cuda:0', requires_grad=True)"
      ]
     },
     "execution_count": 10,
     "metadata": {},
     "output_type": "execute_result"
    }
   ],
   "source": [
    "tree.data"
   ]
  },
  {
   "cell_type": "code",
   "execution_count": 17,
   "id": "narrative-newport",
   "metadata": {},
   "outputs": [
    {
     "data": {
      "text/plain": [
       "tensor([[1.0000, 1.0000, 1.0000],\n",
       "        [1.0000, 1.0000, 1.0000],\n",
       "        [1.0000, 1.0000, 1.0000],\n",
       "        [1.0000, 1.0000, 1.0000],\n",
       "        [1.0000, 1.0000, 1.0000],\n",
       "        [1.0000, 1.0000, 1.0000],\n",
       "        [1.0000, 1.0000, 1.0000],\n",
       "        [1.0000, 1.0000, 1.0000],\n",
       "        [0.5625, 1.0125, 0.5625],\n",
       "        [0.5625, 0.9000, 0.5625],\n",
       "        [0.5625, 0.8550, 0.5625],\n",
       "        [0.5625, 0.8438, 0.5625],\n",
       "        [0.5400, 0.5400, 0.5400],\n",
       "        [0.7000, 0.7000, 0.7000],\n",
       "        [0.9400, 0.9400, 0.9400],\n",
       "        [1.0000, 1.0000, 2.0000],\n",
       "        [1.0000, 2.0000, 1.0000],\n",
       "        [1.0000, 2.0000, 2.0000],\n",
       "        [2.0000, 1.0000, 1.0000],\n",
       "        [2.0000, 1.0000, 2.0000],\n",
       "        [2.0000, 2.0000, 1.0000],\n",
       "        [2.0000, 2.0000, 2.0000]], device='cuda:0')"
      ]
     },
     "execution_count": 17,
     "metadata": {},
     "output_type": "execute_result"
    }
   ],
   "source": [
    "q_indices = torch.tensor([\n",
    "    [0.125, 0.125, 0.125],\n",
    "    [0.125, 0.125, 0.375],\n",
    "    [0.125, 0.375, 0.125],\n",
    "    [0.125, 0.375, 0.375],\n",
    "    [0.375, 0.125, 0.125],\n",
    "    [0.375, 0.125, 0.375],\n",
    "    [0.375, 0.375, 0.125],\n",
    "    [0.375, 0.375, 0.375],\n",
    "    \n",
    "    [0.125, 0.65, 0.125],\n",
    "    [0.125, 0.55, 0.125],\n",
    "    [0.125, 0.51, 0.125],\n",
    "    [0.125, 0.50, 0.125],\n",
    "    [0.125, 0.49, 0.125],\n",
    "    [0.125, 0.45, 0.125],\n",
    "    [0.125, 0.39, 0.125],\n",
    "    \n",
    "    [0.25, 0.25, 0.75],\n",
    "    [0.25, 0.75, 0.25],\n",
    "    [0.25, 0.75, 0.75],\n",
    "    [0.75, 0.25, 0.25],\n",
    "    [0.75, 0.25, 0.75],\n",
    "    [0.75, 0.75, 0.25],\n",
    "    [0.75, 0.75, 0.75]\n",
    "]).cuda()\n",
    "out = C_.query_interp(tree._spec(world=True), q_indices)\n",
    "out"
   ]
  },
  {
   "cell_type": "code",
   "execution_count": 16,
   "id": "dependent-grade",
   "metadata": {},
   "outputs": [
    {
     "data": {
      "text/plain": [
       "tensor([[1.0200, 2.0000, 1.0200]], device='cuda:0')"
      ]
     },
     "execution_count": 16,
     "metadata": {},
     "output_type": "execute_result"
    }
   ],
   "source": [
    "q_indices = torch.tensor([[0.26, 0.75, 0.26], [0.8, 0.8, 0.8]]).cuda()\n",
    "C_.query_interp(tree._spec(world=True), q_indices[0:1])"
   ]
  },
  {
   "cell_type": "code",
   "execution_count": 27,
   "id": "proved-nothing",
   "metadata": {},
   "outputs": [
    {
     "data": {
      "text/plain": [
       "(N3TreeView(tensor([1., 1., 2.], device='cuda:0', grad_fn=<SelectBackward0>)),\n",
       " N3TreeView(tensor([1., 2., 1.], device='cuda:0', grad_fn=<SelectBackward0>)),\n",
       " N3TreeView(tensor([1., 2., 2.], device='cuda:0', grad_fn=<SelectBackward0>)),\n",
       " N3TreeView(tensor([2., 1., 1.], device='cuda:0', grad_fn=<SelectBackward0>)),\n",
       " N3TreeView(tensor([2., 1., 2.], device='cuda:0', grad_fn=<SelectBackward0>)),\n",
       " N3TreeView(tensor([2., 2., 1.], device='cuda:0', grad_fn=<SelectBackward0>)),\n",
       " N3TreeView(tensor([2., 2., 2.], device='cuda:0', grad_fn=<SelectBackward0>)),\n",
       " N3TreeView(tensor([1., 1., 1.], device='cuda:0', grad_fn=<SelectBackward0>)),\n",
       " N3TreeView(tensor([1., 1., 1.], device='cuda:0', grad_fn=<SelectBackward0>)))"
      ]
     },
     "execution_count": 27,
     "metadata": {},
     "output_type": "execute_result"
    }
   ],
   "source": [
    "tree[0], tree[1], tree[2], tree[3], tree[4], tree[5], tree[6], tree[7], tree[8]"
   ]
  },
  {
   "cell_type": "code",
   "execution_count": 28,
   "id": "blind-estonia",
   "metadata": {},
   "outputs": [
    {
     "data": {
      "text/plain": [
       "torch.Size([15, 4])"
      ]
     },
     "execution_count": 28,
     "metadata": {},
     "output_type": "execute_result"
    }
   ],
   "source": [
    "tree._all_leaves().shape"
   ]
  },
  {
   "cell_type": "code",
   "execution_count": 27,
   "id": "human-junction",
   "metadata": {},
   "outputs": [],
   "source": [
    "indices = torch.tensor([[0.0, 0.0, 0.0], [1., 1., 1.]]).cuda()\n",
    "values = torch.tensor([[3, 3, 3], [6, 6, 100000]]).float()\n",
    "tree.set(indices, values)"
   ]
  },
  {
   "cell_type": "code",
   "execution_count": 25,
   "id": "spoken-meaning",
   "metadata": {},
   "outputs": [
    {
     "data": {
      "text/plain": [
       "(N3TreeView(tensor([3., 3., 3.], device='cuda:0', grad_fn=<SelectBackward0>)),\n",
       " N3TreeView(tensor([0., 0., 0.], device='cuda:0', grad_fn=<SelectBackward0>)),\n",
       " N3TreeView(tensor([0., 0., 0.], device='cuda:0', grad_fn=<SelectBackward0>)),\n",
       " N3TreeView(tensor([0., 0., 0.], device='cuda:0', grad_fn=<SelectBackward0>)),\n",
       " N3TreeView(tensor([0., 0., 0.], device='cuda:0', grad_fn=<SelectBackward0>)),\n",
       " N3TreeView(tensor([0., 0., 0.], device='cuda:0', grad_fn=<SelectBackward0>)),\n",
       " N3TreeView(tensor([0., 0., 0.], device='cuda:0', grad_fn=<SelectBackward0>)),\n",
       " N3TreeView(tensor([6.0000e+00, 6.0000e+00, 1.0000e+05], device='cuda:0',\n",
       "        grad_fn=<SelectBackward0>)))"
      ]
     },
     "execution_count": 25,
     "metadata": {},
     "output_type": "execute_result"
    }
   ],
   "source": [
    "tree[0], tree[1], tree[2], tree[3], tree[4], tree[5], tree[6], tree[7]"
   ]
  },
  {
   "cell_type": "code",
   "execution_count": 8,
   "id": "removed-cache",
   "metadata": {},
   "outputs": [
    {
     "data": {
      "text/plain": [
       "(N3TreeView(tensor([0., 0., 0.], device='cuda:0', grad_fn=<SelectBackward0>)),\n",
       " N3TreeView(tensor([0., 0., 0.], device='cuda:0', grad_fn=<SelectBackward0>)),\n",
       " N3TreeView(tensor([6.0000e+00, 6.0000e+00, 1.0000e+05], device='cuda:0',\n",
       "        grad_fn=<SelectBackward0>)))"
      ]
     },
     "execution_count": 8,
     "metadata": {},
     "output_type": "execute_result"
    }
   ],
   "source": []
  },
  {
   "cell_type": "code",
   "execution_count": 13,
   "id": "fifth-montgomery",
   "metadata": {},
   "outputs": [
    {
     "data": {
      "text/plain": [
       "tensor([[2.4000e-03, 2.4000e-03, 4.0000e+01]], device='cuda:0')"
      ]
     },
     "execution_count": 13,
     "metadata": {},
     "output_type": "execute_result"
    }
   ],
   "source": [
    "q_indices = torch.tensor([[0.26, 0.75, 0.26], [0.8, 0.8, 0.8]]).cuda()\n",
    "C_.query_interp(tree._spec(world=True), q_indices[0:1])"
   ]
  },
  {
   "cell_type": "code",
   "execution_count": 19,
   "id": "introductory-israeli",
   "metadata": {},
   "outputs": [
    {
     "data": {
      "text/plain": [
       "(tensor([[3.0000e+00, 3.0000e+00, 3.0000e+00],\n",
       "         [6.0000e+00, 6.0000e+00, 1.0000e+05]], device='cuda:0'),\n",
       " tensor([0, 7], device='cuda:0'))"
      ]
     },
     "execution_count": 19,
     "metadata": {},
     "output_type": "execute_result"
    }
   ],
   "source": [
    "C_.query_vertical(tree._spec(world=True), indices)"
   ]
  },
  {
   "cell_type": "markdown",
   "id": "invalid-phase",
   "metadata": {},
   "source": [
    "## NSVF"
   ]
  },
  {
   "cell_type": "code",
   "execution_count": 33,
   "id": "dense-dallas",
   "metadata": {},
   "outputs": [],
   "source": [
    "def discretize_points(voxel_points, voxel_size):\n",
    "    # this function turns voxel centers/corners into integer indices\n",
    "    # we assume all points are alreay put as voxels (real numbers)\n",
    "    minimal_voxel_point = voxel_points.min(dim=0, keepdim=True)[0]\n",
    "    voxel_indices = ((voxel_points - minimal_voxel_point) / voxel_size).round_().long()  # float\n",
    "    residual = (voxel_points - voxel_indices.type_as(voxel_points) * voxel_size).mean(0, keepdim=True)\n",
    "    return voxel_indices, residual\n",
    "def offset_points(point_xyz, quarter_voxel=1, offset_only=False, bits=2):\n",
    "    c = torch.arange(1, 2 * bits, 2, device=point_xyz.device)\n",
    "    ox, oy, oz = torch.meshgrid([c, c, c])\n",
    "    offset = (torch.cat([\n",
    "                    ox.reshape(-1, 1), \n",
    "                    oy.reshape(-1, 1), \n",
    "                    oz.reshape(-1, 1)], 1).type_as(point_xyz) - bits) / float(bits - 1)\n",
    "    if not offset_only:\n",
    "        return point_xyz.unsqueeze(1) + offset.unsqueeze(0).type_as(point_xyz) * quarter_voxel\n",
    "    return offset.type_as(point_xyz) * quarter_voxel"
   ]
  },
  {
   "cell_type": "code",
   "execution_count": 31,
   "id": "sapphire-public",
   "metadata": {},
   "outputs": [],
   "source": [
    "fine_points = torch.tensor([\n",
    "    [0.25, 0.25, 0.25],\n",
    "    [0.25, 0.25, 0.75],\n",
    "    [0.25, 0.75, 0.25],\n",
    "    [0.25, 0.75, 0.75],\n",
    "    [0.75, 0.25, 0.25],\n",
    "    [0.75, 0.25, 0.75],\n",
    "    [0.75, 0.75, 0.25],\n",
    "    [0.75, 0.75, 0.75]])"
   ]
  },
  {
   "cell_type": "code",
   "execution_count": 39,
   "id": "dental-thickness",
   "metadata": {
    "scrolled": true
   },
   "outputs": [
    {
     "data": {
      "text/plain": [
       "tensor([[-1, -1, -1],\n",
       "        [-1, -1,  1],\n",
       "        [-1,  1, -1],\n",
       "        [-1,  1,  1],\n",
       "        [ 1, -1, -1],\n",
       "        [ 1, -1,  1],\n",
       "        [ 1,  1, -1],\n",
       "        [ 1,  1,  1],\n",
       "        [-1, -1,  0],\n",
       "        [-1, -1,  2],\n",
       "        [-1,  1,  0],\n",
       "        [-1,  1,  2],\n",
       "        [ 1, -1,  0],\n",
       "        [ 1, -1,  2],\n",
       "        [ 1,  1,  0],\n",
       "        [ 1,  1,  2],\n",
       "        [-1,  0, -1],\n",
       "        [-1,  0,  1],\n",
       "        [-1,  2, -1],\n",
       "        [-1,  2,  1],\n",
       "        [ 1,  0, -1],\n",
       "        [ 1,  0,  1],\n",
       "        [ 1,  2, -1],\n",
       "        [ 1,  2,  1],\n",
       "        [-1,  0,  0],\n",
       "        [-1,  0,  2],\n",
       "        [-1,  2,  0],\n",
       "        [-1,  2,  2],\n",
       "        [ 1,  0,  0],\n",
       "        [ 1,  0,  2],\n",
       "        [ 1,  2,  0],\n",
       "        [ 1,  2,  2],\n",
       "        [ 0, -1, -1],\n",
       "        [ 0, -1,  1],\n",
       "        [ 0,  1, -1],\n",
       "        [ 0,  1,  1],\n",
       "        [ 2, -1, -1],\n",
       "        [ 2, -1,  1],\n",
       "        [ 2,  1, -1],\n",
       "        [ 2,  1,  1],\n",
       "        [ 0, -1,  0],\n",
       "        [ 0, -1,  2],\n",
       "        [ 0,  1,  0],\n",
       "        [ 0,  1,  2],\n",
       "        [ 2, -1,  0],\n",
       "        [ 2, -1,  2],\n",
       "        [ 2,  1,  0],\n",
       "        [ 2,  1,  2],\n",
       "        [ 0,  0, -1],\n",
       "        [ 0,  0,  1],\n",
       "        [ 0,  2, -1],\n",
       "        [ 0,  2,  1],\n",
       "        [ 2,  0, -1],\n",
       "        [ 2,  0,  1],\n",
       "        [ 2,  2, -1],\n",
       "        [ 2,  2,  1],\n",
       "        [ 0,  0,  0],\n",
       "        [ 0,  0,  2],\n",
       "        [ 0,  2,  0],\n",
       "        [ 0,  2,  2],\n",
       "        [ 2,  0,  0],\n",
       "        [ 2,  0,  2],\n",
       "        [ 2,  2,  0],\n",
       "        [ 2,  2,  2]])"
      ]
     },
     "execution_count": 39,
     "metadata": {},
     "output_type": "execute_result"
    }
   ],
   "source": [
    "fine_keys0"
   ]
  },
  {
   "cell_type": "code",
   "execution_count": 42,
   "id": "decimal-stanford",
   "metadata": {},
   "outputs": [],
   "source": [
    "# transform from voxel centers to voxel corners (key/values)\n",
    "fine_coords, _ = discretize_points(fine_points, 0.5)\n",
    "fine_keys0 = offset_points(fine_coords, 1).reshape(-1, 3)\n",
    "fine_keys, fine_feats = torch.unique(fine_keys0, dim=0, sorted=True, return_inverse=True)\n",
    "fine_feats = fine_feats.reshape(-1, 8)"
   ]
  },
  {
   "cell_type": "code",
   "execution_count": 41,
   "id": "provincial-lewis",
   "metadata": {},
   "outputs": [
    {
     "data": {
      "text/plain": [
       "tensor([[ 0,  2,  8, 10, 32, 34, 40, 42],\n",
       "        [ 1,  3,  9, 11, 33, 35, 41, 43],\n",
       "        [ 4,  6, 12, 14, 36, 38, 44, 46],\n",
       "        [ 5,  7, 13, 15, 37, 39, 45, 47],\n",
       "        [16, 18, 24, 26, 48, 50, 56, 58],\n",
       "        [17, 19, 25, 27, 49, 51, 57, 59],\n",
       "        [20, 22, 28, 30, 52, 54, 60, 62],\n",
       "        [21, 23, 29, 31, 53, 55, 61, 63]])"
      ]
     },
     "execution_count": 41,
     "metadata": {},
     "output_type": "execute_result"
    }
   ],
   "source": [
    "fine_feats"
   ]
  },
  {
   "cell_type": "code",
   "execution_count": null,
   "id": "periodic-argument",
   "metadata": {},
   "outputs": [],
   "source": []
  }
 ],
 "metadata": {
  "kernelspec": {
   "display_name": "Python 3",
   "language": "python",
   "name": "python3"
  },
  "language_info": {
   "codemirror_mode": {
    "name": "ipython",
    "version": 3
   },
   "file_extension": ".py",
   "mimetype": "text/x-python",
   "name": "python",
   "nbconvert_exporter": "python",
   "pygments_lexer": "ipython3",
   "version": "3.8.2"
  },
  "toc": {
   "base_numbering": 1,
   "nav_menu": {},
   "number_sections": true,
   "sideBar": true,
   "skip_h1_title": false,
   "title_cell": "Table of Contents",
   "title_sidebar": "Contents",
   "toc_cell": false,
   "toc_position": {},
   "toc_section_display": true,
   "toc_window_display": false
  }
 },
 "nbformat": 4,
 "nbformat_minor": 5
}
