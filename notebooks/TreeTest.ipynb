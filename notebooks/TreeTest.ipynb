{
 "cells": [
  {
   "cell_type": "code",
   "execution_count": 1,
   "id": "classified-recorder",
   "metadata": {},
   "outputs": [],
   "source": [
    "%load_ext autoreload\n",
    "%autoreload 2"
   ]
  },
  {
   "cell_type": "code",
   "execution_count": 2,
   "id": "ambient-prerequisite",
   "metadata": {},
   "outputs": [],
   "source": [
    "import torch\n",
    "import numpy as np"
   ]
  },
  {
   "cell_type": "code",
   "execution_count": 3,
   "id": "arbitrary-mustang",
   "metadata": {},
   "outputs": [],
   "source": [
    "import svox"
   ]
  },
  {
   "cell_type": "code",
   "execution_count": 4,
   "id": "severe-individual",
   "metadata": {},
   "outputs": [],
   "source": [
    "import csrc as C_"
   ]
  },
  {
   "cell_type": "code",
   "execution_count": 5,
   "id": "classified-weekly",
   "metadata": {},
   "outputs": [
    {
     "data": {
      "text/plain": [
       "svox.N3Tree(N=2, data_dim=3, depth_limit=10, capacity:1/1, data_format:RGBA)"
      ]
     },
     "execution_count": 5,
     "metadata": {},
     "output_type": "execute_result"
    }
   ],
   "source": [
    "tree = svox.N3Tree(data_dim=3)\n",
    "tree.to(\"cuda:0\")"
   ]
  },
  {
   "cell_type": "code",
   "execution_count": 6,
   "id": "crucial-hamilton",
   "metadata": {},
   "outputs": [],
   "source": [
    "indices = torch.tensor([[0.25, 0.25, 0.25],\n",
    "                        [0.25, 0.25, 0.75],\n",
    "                        [0.25, 0.75, 0.25],\n",
    "                        [0.25, 0.75, 0.75],\n",
    "                        [0.75, 0.25, 0.25],\n",
    "                        [0.75, 0.25, 0.75],\n",
    "                        [0.75, 0.75, 0.25],\n",
    "                        [0.75, 0.75, 0.75]]).cuda()\n",
    "values = torch.tensor([[1, 1, 1],\n",
    "                       [1, 1, 2],\n",
    "                       [1, 2, 1],\n",
    "                       [1, 2, 2],\n",
    "                       [2, 1, 1],\n",
    "                       [2, 1, 2],\n",
    "                       [2, 2, 1],\n",
    "                       [2, 2, 2]]).float()\n",
    "tree.set(indices, values)"
   ]
  },
  {
   "cell_type": "code",
   "execution_count": 7,
   "id": "automated-voluntary",
   "metadata": {},
   "outputs": [
    {
     "data": {
      "text/plain": [
       "(N3TreeView(tensor([1., 1., 1.], device='cuda:0', grad_fn=<SelectBackward0>)),\n",
       " N3TreeView(tensor([1., 1., 2.], device='cuda:0', grad_fn=<SelectBackward0>)),\n",
       " N3TreeView(tensor([1., 2., 1.], device='cuda:0', grad_fn=<SelectBackward0>)),\n",
       " N3TreeView(tensor([1., 2., 2.], device='cuda:0', grad_fn=<SelectBackward0>)),\n",
       " N3TreeView(tensor([2., 1., 1.], device='cuda:0', grad_fn=<SelectBackward0>)),\n",
       " N3TreeView(tensor([2., 1., 2.], device='cuda:0', grad_fn=<SelectBackward0>)),\n",
       " N3TreeView(tensor([2., 2., 1.], device='cuda:0', grad_fn=<SelectBackward0>)),\n",
       " N3TreeView(tensor([2., 2., 2.], device='cuda:0', grad_fn=<SelectBackward0>)))"
      ]
     },
     "execution_count": 7,
     "metadata": {},
     "output_type": "execute_result"
    }
   ],
   "source": [
    "tree[0], tree[1], tree[2], tree[3], tree[4], tree[5], tree[6], tree[7]"
   ]
  },
  {
   "cell_type": "code",
   "execution_count": 8,
   "id": "transsexual-fleet",
   "metadata": {},
   "outputs": [
    {
     "data": {
      "text/plain": [
       "tensor([[0, 0, 0, 0],\n",
       "        [0, 0, 0, 1],\n",
       "        [0, 0, 1, 0],\n",
       "        [0, 0, 1, 1],\n",
       "        [0, 1, 0, 0],\n",
       "        [0, 1, 0, 1],\n",
       "        [0, 1, 1, 0],\n",
       "        [0, 1, 1, 1]])"
      ]
     },
     "execution_count": 8,
     "metadata": {},
     "output_type": "execute_result"
    }
   ],
   "source": [
    "tree._all_leaves()"
   ]
  },
  {
   "cell_type": "code",
   "execution_count": 9,
   "id": "compact-stability",
   "metadata": {},
   "outputs": [
    {
     "name": "stdout",
     "output_type": "stream",
     "text": [
      "(tensor([0]), tensor([0]), tensor([0]), tensor([0]))\n"
     ]
    },
    {
     "data": {
      "text/plain": [
       "True"
      ]
     },
     "execution_count": 9,
     "metadata": {},
     "output_type": "execute_result"
    }
   ],
   "source": [
    "sel = (*tree._all_leaves()[:1].T,)\n",
    "print(sel)\n",
    "tree.refine(sel=sel)"
   ]
  },
  {
   "cell_type": "code",
   "execution_count": 10,
   "id": "spanish-consumer",
   "metadata": {},
   "outputs": [
    {
     "data": {
      "text/plain": [
       "Parameter containing:\n",
       "tensor([[[[[1., 1., 1.],\n",
       "           [1., 1., 2.]],\n",
       "\n",
       "          [[1., 2., 1.],\n",
       "           [1., 2., 2.]]],\n",
       "\n",
       "\n",
       "         [[[2., 1., 1.],\n",
       "           [2., 1., 2.]],\n",
       "\n",
       "          [[2., 2., 1.],\n",
       "           [2., 2., 2.]]]],\n",
       "\n",
       "\n",
       "\n",
       "        [[[[0., 0., 0.],\n",
       "           [0., 0., 0.]],\n",
       "\n",
       "          [[0., 0., 0.],\n",
       "           [0., 0., 0.]]],\n",
       "\n",
       "\n",
       "         [[[0., 0., 0.],\n",
       "           [0., 0., 0.]],\n",
       "\n",
       "          [[0., 0., 0.],\n",
       "           [0., 0., 0.]]]]], device='cuda:0', requires_grad=True)"
      ]
     },
     "execution_count": 10,
     "metadata": {},
     "output_type": "execute_result"
    }
   ],
   "source": [
    "tree.data"
   ]
  },
  {
   "cell_type": "code",
   "execution_count": 17,
   "id": "narrative-newport",
   "metadata": {},
   "outputs": [
    {
     "data": {
      "text/plain": [
       "tensor([[1.0000, 1.0000, 1.0000],\n",
       "        [1.0000, 1.0000, 1.0000],\n",
       "        [1.0000, 1.0000, 1.0000],\n",
       "        [1.0000, 1.0000, 1.0000],\n",
       "        [1.0000, 1.0000, 1.0000],\n",
       "        [1.0000, 1.0000, 1.0000],\n",
       "        [1.0000, 1.0000, 1.0000],\n",
       "        [1.0000, 1.0000, 1.0000],\n",
       "        [0.5625, 1.0125, 0.5625],\n",
       "        [0.5625, 0.9000, 0.5625],\n",
       "        [0.5625, 0.8550, 0.5625],\n",
       "        [0.5625, 0.8438, 0.5625],\n",
       "        [0.5400, 0.5400, 0.5400],\n",
       "        [0.7000, 0.7000, 0.7000],\n",
       "        [0.9400, 0.9400, 0.9400],\n",
       "        [1.0000, 1.0000, 2.0000],\n",
       "        [1.0000, 2.0000, 1.0000],\n",
       "        [1.0000, 2.0000, 2.0000],\n",
       "        [2.0000, 1.0000, 1.0000],\n",
       "        [2.0000, 1.0000, 2.0000],\n",
       "        [2.0000, 2.0000, 1.0000],\n",
       "        [2.0000, 2.0000, 2.0000]], device='cuda:0')"
      ]
     },
     "execution_count": 17,
     "metadata": {},
     "output_type": "execute_result"
    }
   ],
   "source": [
    "q_indices = torch.tensor([\n",
    "    [0.125, 0.125, 0.125],\n",
    "    [0.125, 0.125, 0.375],\n",
    "    [0.125, 0.375, 0.125],\n",
    "    [0.125, 0.375, 0.375],\n",
    "    [0.375, 0.125, 0.125],\n",
    "    [0.375, 0.125, 0.375],\n",
    "    [0.375, 0.375, 0.125],\n",
    "    [0.375, 0.375, 0.375],\n",
    "    \n",
    "    [0.125, 0.65, 0.125],\n",
    "    [0.125, 0.55, 0.125],\n",
    "    [0.125, 0.51, 0.125],\n",
    "    [0.125, 0.50, 0.125],\n",
    "    [0.125, 0.49, 0.125],\n",
    "    [0.125, 0.45, 0.125],\n",
    "    [0.125, 0.39, 0.125],\n",
    "    \n",
    "    [0.25, 0.25, 0.75],\n",
    "    [0.25, 0.75, 0.25],\n",
    "    [0.25, 0.75, 0.75],\n",
    "    [0.75, 0.25, 0.25],\n",
    "    [0.75, 0.25, 0.75],\n",
    "    [0.75, 0.75, 0.25],\n",
    "    [0.75, 0.75, 0.75]\n",
    "]).cuda()\n",
    "out = C_.query_interp(tree._spec(world=True), q_indices)\n",
    "out"
   ]
  },
  {
   "cell_type": "code",
   "execution_count": 16,
   "id": "dependent-grade",
   "metadata": {},
   "outputs": [
    {
     "data": {
      "text/plain": [
       "tensor([[1.0200, 2.0000, 1.0200]], device='cuda:0')"
      ]
     },
     "execution_count": 16,
     "metadata": {},
     "output_type": "execute_result"
    }
   ],
   "source": [
    "q_indices = torch.tensor([[0.26, 0.75, 0.26], [0.8, 0.8, 0.8]]).cuda()\n",
    "C_.query_interp(tree._spec(world=True), q_indices[0:1])"
   ]
  },
  {
   "cell_type": "code",
   "execution_count": 27,
   "id": "proved-nothing",
   "metadata": {},
   "outputs": [
    {
     "data": {
      "text/plain": [
       "(N3TreeView(tensor([1., 1., 2.], device='cuda:0', grad_fn=<SelectBackward0>)),\n",
       " N3TreeView(tensor([1., 2., 1.], device='cuda:0', grad_fn=<SelectBackward0>)),\n",
       " N3TreeView(tensor([1., 2., 2.], device='cuda:0', grad_fn=<SelectBackward0>)),\n",
       " N3TreeView(tensor([2., 1., 1.], device='cuda:0', grad_fn=<SelectBackward0>)),\n",
       " N3TreeView(tensor([2., 1., 2.], device='cuda:0', grad_fn=<SelectBackward0>)),\n",
       " N3TreeView(tensor([2., 2., 1.], device='cuda:0', grad_fn=<SelectBackward0>)),\n",
       " N3TreeView(tensor([2., 2., 2.], device='cuda:0', grad_fn=<SelectBackward0>)),\n",
       " N3TreeView(tensor([1., 1., 1.], device='cuda:0', grad_fn=<SelectBackward0>)),\n",
       " N3TreeView(tensor([1., 1., 1.], device='cuda:0', grad_fn=<SelectBackward0>)))"
      ]
     },
     "execution_count": 27,
     "metadata": {},
     "output_type": "execute_result"
    }
   ],
   "source": [
    "tree[0], tree[1], tree[2], tree[3], tree[4], tree[5], tree[6], tree[7], tree[8]"
   ]
  },
  {
   "cell_type": "code",
   "execution_count": 28,
   "id": "blind-estonia",
   "metadata": {},
   "outputs": [
    {
     "data": {
      "text/plain": [
       "torch.Size([15, 4])"
      ]
     },
     "execution_count": 28,
     "metadata": {},
     "output_type": "execute_result"
    }
   ],
   "source": [
    "tree._all_leaves().shape"
   ]
  },
  {
   "cell_type": "code",
   "execution_count": 27,
   "id": "human-junction",
   "metadata": {},
   "outputs": [],
   "source": [
    "indices = torch.tensor([[0.0, 0.0, 0.0], [1., 1., 1.]]).cuda()\n",
    "values = torch.tensor([[3, 3, 3], [6, 6, 100000]]).float()\n",
    "tree.set(indices, values)"
   ]
  },
  {
   "cell_type": "code",
   "execution_count": 25,
   "id": "spoken-meaning",
   "metadata": {},
   "outputs": [
    {
     "data": {
      "text/plain": [
       "(N3TreeView(tensor([3., 3., 3.], device='cuda:0', grad_fn=<SelectBackward0>)),\n",
       " N3TreeView(tensor([0., 0., 0.], device='cuda:0', grad_fn=<SelectBackward0>)),\n",
       " N3TreeView(tensor([0., 0., 0.], device='cuda:0', grad_fn=<SelectBackward0>)),\n",
       " N3TreeView(tensor([0., 0., 0.], device='cuda:0', grad_fn=<SelectBackward0>)),\n",
       " N3TreeView(tensor([0., 0., 0.], device='cuda:0', grad_fn=<SelectBackward0>)),\n",
       " N3TreeView(tensor([0., 0., 0.], device='cuda:0', grad_fn=<SelectBackward0>)),\n",
       " N3TreeView(tensor([0., 0., 0.], device='cuda:0', grad_fn=<SelectBackward0>)),\n",
       " N3TreeView(tensor([6.0000e+00, 6.0000e+00, 1.0000e+05], device='cuda:0',\n",
       "        grad_fn=<SelectBackward0>)))"
      ]
     },
     "execution_count": 25,
     "metadata": {},
     "output_type": "execute_result"
    }
   ],
   "source": [
    "tree[0], tree[1], tree[2], tree[3], tree[4], tree[5], tree[6], tree[7]"
   ]
  },
  {
   "cell_type": "code",
   "execution_count": 8,
   "id": "removed-cache",
   "metadata": {},
   "outputs": [
    {
     "data": {
      "text/plain": [
       "(N3TreeView(tensor([0., 0., 0.], device='cuda:0', grad_fn=<SelectBackward0>)),\n",
       " N3TreeView(tensor([0., 0., 0.], device='cuda:0', grad_fn=<SelectBackward0>)),\n",
       " N3TreeView(tensor([6.0000e+00, 6.0000e+00, 1.0000e+05], device='cuda:0',\n",
       "        grad_fn=<SelectBackward0>)))"
      ]
     },
     "execution_count": 8,
     "metadata": {},
     "output_type": "execute_result"
    }
   ],
   "source": []
  },
  {
   "cell_type": "code",
   "execution_count": 13,
   "id": "fifth-montgomery",
   "metadata": {},
   "outputs": [
    {
     "data": {
      "text/plain": [
       "tensor([[2.4000e-03, 2.4000e-03, 4.0000e+01]], device='cuda:0')"
      ]
     },
     "execution_count": 13,
     "metadata": {},
     "output_type": "execute_result"
    }
   ],
   "source": [
    "q_indices = torch.tensor([[0.26, 0.75, 0.26], [0.8, 0.8, 0.8]]).cuda()\n",
    "C_.query_interp(tree._spec(world=True), q_indices[0:1])"
   ]
  },
  {
   "cell_type": "code",
   "execution_count": 19,
   "id": "introductory-israeli",
   "metadata": {},
   "outputs": [
    {
     "data": {
      "text/plain": [
       "(tensor([[3.0000e+00, 3.0000e+00, 3.0000e+00],\n",
       "         [6.0000e+00, 6.0000e+00, 1.0000e+05]], device='cuda:0'),\n",
       " tensor([0, 7], device='cuda:0'))"
      ]
     },
     "execution_count": 19,
     "metadata": {},
     "output_type": "execute_result"
    }
   ],
   "source": [
    "C_.query_vertical(tree._spec(world=True), indices)"
   ]
  },
  {
   "cell_type": "code",
   "execution_count": null,
   "id": "extra-gregory",
   "metadata": {},
   "outputs": [],
   "source": []
  }
 ],
 "metadata": {
  "kernelspec": {
   "display_name": "Python 3",
   "language": "python",
   "name": "python3"
  },
  "language_info": {
   "codemirror_mode": {
    "name": "ipython",
    "version": 3
   },
   "file_extension": ".py",
   "mimetype": "text/x-python",
   "name": "python",
   "nbconvert_exporter": "python",
   "pygments_lexer": "ipython3",
   "version": "3.8.2"
  },
  "toc": {
   "base_numbering": 1,
   "nav_menu": {},
   "number_sections": true,
   "sideBar": true,
   "skip_h1_title": false,
   "title_cell": "Table of Contents",
   "title_sidebar": "Contents",
   "toc_cell": false,
   "toc_position": {},
   "toc_section_display": true,
   "toc_window_display": false
  }
 },
 "nbformat": 4,
 "nbformat_minor": 5
}
